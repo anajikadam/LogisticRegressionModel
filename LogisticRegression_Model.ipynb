{
  "nbformat": 4,
  "nbformat_minor": 0,
  "metadata": {
    "colab": {
      "provenance": []
    },
    "kernelspec": {
      "display_name": "Python 3",
      "name": "python3"
    },
    "language_info": {
      "name": "python"
    }
  },
  "cells": [
    {
      "cell_type": "markdown",
      "source": [
        "# **Build a logistics regression learning model on the given dataset to determine whether the customer will churn or not.**\n",
        "\n",
        "# Project Description\n",
        "\n",
        "## Business Objective\n",
        "\n",
        "Predicting a qualitative response for observation can be referred to as classifying that observation since it involves assigning the observation to a category or class. Classification forms the basis for Logistic Regression. Logistic Regression is a supervised algorithm used to predict a dependent variable that is categorical or discrete. Logistic regression models the data using the sigmoid function.\n",
        "\n",
        "Churned Customers are those who have decided to end their relationship with their existing company. In our case study, we will be working on a churn dataset.\n",
        "\n",
        "XYZ is a service-providing company that provides customers with a one-year subscription plan for their product. The company wants to know if the customers will renew the subscription for the coming year or not.\n",
        "\n",
        "\n",
        "\n",
        "## Data Description\n",
        "\n",
        "This data provides information about a video streaming service company, where they want to predict if the customer will churn or not. The CSV consists of around 2000 rows and 16 columns.\n",
        "\n",
        "\n",
        "Tech stack\n",
        "\n",
        "    Language - Python\n",
        "    Libraries - numpy, pandas, matplotlib, seaborn, sklearn, pickle, imblearn, statsmodel\n",
        "\n",
        "\n",
        "\n",
        "Approach\n",
        "\n",
        "    Importing the required libraries and reading the dataset.\n",
        "    Inspecting and cleaning up the data\n",
        "    Perform data encoding on categorical variables\n",
        "    Exploratory Data Analysis (EDA)\n",
        "\n",
        "        Data Visualization\n",
        "\n",
        "    Feature Engineering\n",
        "\n",
        "        Dropping of unwanted columns\n",
        "\n",
        "    Model Building\n",
        "\n",
        "        Using the statsmodel library\n",
        "\n",
        "    Model Building\n",
        "\n",
        "        Performing train test split\n",
        "        Logistic Regression Model\n",
        "\n",
        "    Model Validation (predictions)\n",
        "\n",
        "        Accuracy score\n",
        "        Confusion matrix\n",
        "        ROC and AUC\n",
        "        Recall score\n",
        "        Precision score\n",
        "        F1-score\n",
        "\n",
        "    Handling the unbalanced data\n",
        "\n",
        "        With balanced weights\n",
        "        Random weights\n",
        "        Adjusting imbalanced data\n",
        "        Using SMOTE\n",
        "\n",
        "    Feature Selection\n",
        "\n",
        "        Barrier threshold selection\n",
        "        RFE method\n",
        "\n",
        "    Save the model in the form of a pickle file\n"
      ],
      "metadata": {
        "id": "VBfkxxHHQhkr"
      }
    },
    {
      "cell_type": "markdown",
      "metadata": {
        "id": "pyYnq_d3jX9y"
      },
      "source": [
        "**Loading the dataset**"
      ]
    },
    {
      "cell_type": "code",
      "source": [
        "import numpy as np\n",
        "import pandas as pd\n",
        "import seaborn as sns\n",
        "import warnings\n",
        "warnings.filterwarnings(\"ignore\")\n",
        "\n",
        "\n",
        "from sklearn.preprocessing import OrdinalEncoder"
      ],
      "metadata": {
        "id": "NwUffe5DRxRi"
      },
      "execution_count": null,
      "outputs": []
    },
    {
      "cell_type": "code",
      "metadata": {
        "id": "XzLUzjE-WqJK"
      },
      "source": [
        "data = pd.read_csv('/content/data_regression.csv')"
      ],
      "execution_count": null,
      "outputs": []
    },
    {
      "cell_type": "code",
      "source": [
        "df = data.copy()\n",
        "df.shape"
      ],
      "metadata": {
        "colab": {
          "base_uri": "https://localhost:8080/"
        },
        "id": "NSpBqfI2FiKM",
        "outputId": "2def9d45-39a8-48ba-b509-59ffac48f7db"
      },
      "execution_count": null,
      "outputs": [
        {
          "output_type": "execute_result",
          "data": {
            "text/plain": [
              "(2000, 16)"
            ]
          },
          "metadata": {},
          "execution_count": 6
        }
      ]
    },
    {
      "cell_type": "code",
      "metadata": {
        "colab": {
          "base_uri": "https://localhost:8080/",
          "height": 427
        },
        "id": "cSRr4VfiY6q_",
        "outputId": "054967f8-7f8c-4a50-93b2-962df04a9687"
      },
      "source": [
        "# get the first 10 rows\n",
        "df.head().append(df.tail())"
      ],
      "execution_count": null,
      "outputs": [
        {
          "output_type": "execute_result",
          "data": {
            "text/plain": [
              "      year  customer_id  phone_no  gender  age  no_of_days_subscribed  \\\n",
              "0     2015       100198  409-8743  Female   36                     62   \n",
              "1     2015       100643  340-5930  Female   39                    149   \n",
              "2     2015       100756  372-3750  Female   65                    126   \n",
              "3     2015       101595  331-4902  Female   24                    131   \n",
              "4     2015       101653  351-8398  Female   40                    191   \n",
              "1995  2015       997132  385-7387  Female   54                     75   \n",
              "1996  2015       998086  383-9255    Male   45                    127   \n",
              "1997  2015       998474  353-2080     NaN   53                     94   \n",
              "1998  2015       998934  359-7788    Male   40                     94   \n",
              "1999  2015       999961  414-1496    Male   37                     73   \n",
              "\n",
              "     multi_screen mail_subscribed  weekly_mins_watched  minimum_daily_mins  \\\n",
              "0              no              no               148.35                12.2   \n",
              "1              no              no               294.45                 7.7   \n",
              "2              no              no                87.30                11.9   \n",
              "3              no             yes               321.30                 9.5   \n",
              "4              no              no               243.00                10.9   \n",
              "1995           no             yes               182.25                11.3   \n",
              "1996           no              no               273.45                 9.3   \n",
              "1997           no              no               128.85                15.6   \n",
              "1998           no              no               178.05                10.4   \n",
              "1999           no              no               326.70                10.3   \n",
              "\n",
              "      maximum_daily_mins  weekly_max_night_mins  videos_watched  \\\n",
              "0                  16.81                     82               1   \n",
              "1                  33.37                     87               3   \n",
              "2                   9.89                     91               1   \n",
              "3                  36.41                    102               4   \n",
              "4                  27.54                     83               7   \n",
              "1995               20.66                     97               5   \n",
              "1996               30.99                    116               3   \n",
              "1997               14.60                    110              16   \n",
              "1998               20.18                    100               6   \n",
              "1999               37.03                     89               6   \n",
              "\n",
              "      maximum_days_inactive  customer_support_calls  churn  \n",
              "0                       4.0                       1    0.0  \n",
              "1                       3.0                       2    0.0  \n",
              "2                       4.0                       5    1.0  \n",
              "3                       3.0                       3    0.0  \n",
              "4                       3.0                       1    0.0  \n",
              "1995                    4.0                       2    NaN  \n",
              "1996                    3.0                       1    0.0  \n",
              "1997                    5.0                       0    0.0  \n",
              "1998                    NaN                       3    0.0  \n",
              "1999                    3.0                       1    1.0  "
            ],
            "text/html": [
              "\n",
              "  <div id=\"df-988f5842-4ae5-4dc6-b782-f1be032b6c22\">\n",
              "    <div class=\"colab-df-container\">\n",
              "      <div>\n",
              "<style scoped>\n",
              "    .dataframe tbody tr th:only-of-type {\n",
              "        vertical-align: middle;\n",
              "    }\n",
              "\n",
              "    .dataframe tbody tr th {\n",
              "        vertical-align: top;\n",
              "    }\n",
              "\n",
              "    .dataframe thead th {\n",
              "        text-align: right;\n",
              "    }\n",
              "</style>\n",
              "<table border=\"1\" class=\"dataframe\">\n",
              "  <thead>\n",
              "    <tr style=\"text-align: right;\">\n",
              "      <th></th>\n",
              "      <th>year</th>\n",
              "      <th>customer_id</th>\n",
              "      <th>phone_no</th>\n",
              "      <th>gender</th>\n",
              "      <th>age</th>\n",
              "      <th>no_of_days_subscribed</th>\n",
              "      <th>multi_screen</th>\n",
              "      <th>mail_subscribed</th>\n",
              "      <th>weekly_mins_watched</th>\n",
              "      <th>minimum_daily_mins</th>\n",
              "      <th>maximum_daily_mins</th>\n",
              "      <th>weekly_max_night_mins</th>\n",
              "      <th>videos_watched</th>\n",
              "      <th>maximum_days_inactive</th>\n",
              "      <th>customer_support_calls</th>\n",
              "      <th>churn</th>\n",
              "    </tr>\n",
              "  </thead>\n",
              "  <tbody>\n",
              "    <tr>\n",
              "      <th>0</th>\n",
              "      <td>2015</td>\n",
              "      <td>100198</td>\n",
              "      <td>409-8743</td>\n",
              "      <td>Female</td>\n",
              "      <td>36</td>\n",
              "      <td>62</td>\n",
              "      <td>no</td>\n",
              "      <td>no</td>\n",
              "      <td>148.35</td>\n",
              "      <td>12.2</td>\n",
              "      <td>16.81</td>\n",
              "      <td>82</td>\n",
              "      <td>1</td>\n",
              "      <td>4.0</td>\n",
              "      <td>1</td>\n",
              "      <td>0.0</td>\n",
              "    </tr>\n",
              "    <tr>\n",
              "      <th>1</th>\n",
              "      <td>2015</td>\n",
              "      <td>100643</td>\n",
              "      <td>340-5930</td>\n",
              "      <td>Female</td>\n",
              "      <td>39</td>\n",
              "      <td>149</td>\n",
              "      <td>no</td>\n",
              "      <td>no</td>\n",
              "      <td>294.45</td>\n",
              "      <td>7.7</td>\n",
              "      <td>33.37</td>\n",
              "      <td>87</td>\n",
              "      <td>3</td>\n",
              "      <td>3.0</td>\n",
              "      <td>2</td>\n",
              "      <td>0.0</td>\n",
              "    </tr>\n",
              "    <tr>\n",
              "      <th>2</th>\n",
              "      <td>2015</td>\n",
              "      <td>100756</td>\n",
              "      <td>372-3750</td>\n",
              "      <td>Female</td>\n",
              "      <td>65</td>\n",
              "      <td>126</td>\n",
              "      <td>no</td>\n",
              "      <td>no</td>\n",
              "      <td>87.30</td>\n",
              "      <td>11.9</td>\n",
              "      <td>9.89</td>\n",
              "      <td>91</td>\n",
              "      <td>1</td>\n",
              "      <td>4.0</td>\n",
              "      <td>5</td>\n",
              "      <td>1.0</td>\n",
              "    </tr>\n",
              "    <tr>\n",
              "      <th>3</th>\n",
              "      <td>2015</td>\n",
              "      <td>101595</td>\n",
              "      <td>331-4902</td>\n",
              "      <td>Female</td>\n",
              "      <td>24</td>\n",
              "      <td>131</td>\n",
              "      <td>no</td>\n",
              "      <td>yes</td>\n",
              "      <td>321.30</td>\n",
              "      <td>9.5</td>\n",
              "      <td>36.41</td>\n",
              "      <td>102</td>\n",
              "      <td>4</td>\n",
              "      <td>3.0</td>\n",
              "      <td>3</td>\n",
              "      <td>0.0</td>\n",
              "    </tr>\n",
              "    <tr>\n",
              "      <th>4</th>\n",
              "      <td>2015</td>\n",
              "      <td>101653</td>\n",
              "      <td>351-8398</td>\n",
              "      <td>Female</td>\n",
              "      <td>40</td>\n",
              "      <td>191</td>\n",
              "      <td>no</td>\n",
              "      <td>no</td>\n",
              "      <td>243.00</td>\n",
              "      <td>10.9</td>\n",
              "      <td>27.54</td>\n",
              "      <td>83</td>\n",
              "      <td>7</td>\n",
              "      <td>3.0</td>\n",
              "      <td>1</td>\n",
              "      <td>0.0</td>\n",
              "    </tr>\n",
              "    <tr>\n",
              "      <th>1995</th>\n",
              "      <td>2015</td>\n",
              "      <td>997132</td>\n",
              "      <td>385-7387</td>\n",
              "      <td>Female</td>\n",
              "      <td>54</td>\n",
              "      <td>75</td>\n",
              "      <td>no</td>\n",
              "      <td>yes</td>\n",
              "      <td>182.25</td>\n",
              "      <td>11.3</td>\n",
              "      <td>20.66</td>\n",
              "      <td>97</td>\n",
              "      <td>5</td>\n",
              "      <td>4.0</td>\n",
              "      <td>2</td>\n",
              "      <td>NaN</td>\n",
              "    </tr>\n",
              "    <tr>\n",
              "      <th>1996</th>\n",
              "      <td>2015</td>\n",
              "      <td>998086</td>\n",
              "      <td>383-9255</td>\n",
              "      <td>Male</td>\n",
              "      <td>45</td>\n",
              "      <td>127</td>\n",
              "      <td>no</td>\n",
              "      <td>no</td>\n",
              "      <td>273.45</td>\n",
              "      <td>9.3</td>\n",
              "      <td>30.99</td>\n",
              "      <td>116</td>\n",
              "      <td>3</td>\n",
              "      <td>3.0</td>\n",
              "      <td>1</td>\n",
              "      <td>0.0</td>\n",
              "    </tr>\n",
              "    <tr>\n",
              "      <th>1997</th>\n",
              "      <td>2015</td>\n",
              "      <td>998474</td>\n",
              "      <td>353-2080</td>\n",
              "      <td>NaN</td>\n",
              "      <td>53</td>\n",
              "      <td>94</td>\n",
              "      <td>no</td>\n",
              "      <td>no</td>\n",
              "      <td>128.85</td>\n",
              "      <td>15.6</td>\n",
              "      <td>14.60</td>\n",
              "      <td>110</td>\n",
              "      <td>16</td>\n",
              "      <td>5.0</td>\n",
              "      <td>0</td>\n",
              "      <td>0.0</td>\n",
              "    </tr>\n",
              "    <tr>\n",
              "      <th>1998</th>\n",
              "      <td>2015</td>\n",
              "      <td>998934</td>\n",
              "      <td>359-7788</td>\n",
              "      <td>Male</td>\n",
              "      <td>40</td>\n",
              "      <td>94</td>\n",
              "      <td>no</td>\n",
              "      <td>no</td>\n",
              "      <td>178.05</td>\n",
              "      <td>10.4</td>\n",
              "      <td>20.18</td>\n",
              "      <td>100</td>\n",
              "      <td>6</td>\n",
              "      <td>NaN</td>\n",
              "      <td>3</td>\n",
              "      <td>0.0</td>\n",
              "    </tr>\n",
              "    <tr>\n",
              "      <th>1999</th>\n",
              "      <td>2015</td>\n",
              "      <td>999961</td>\n",
              "      <td>414-1496</td>\n",
              "      <td>Male</td>\n",
              "      <td>37</td>\n",
              "      <td>73</td>\n",
              "      <td>no</td>\n",
              "      <td>no</td>\n",
              "      <td>326.70</td>\n",
              "      <td>10.3</td>\n",
              "      <td>37.03</td>\n",
              "      <td>89</td>\n",
              "      <td>6</td>\n",
              "      <td>3.0</td>\n",
              "      <td>1</td>\n",
              "      <td>1.0</td>\n",
              "    </tr>\n",
              "  </tbody>\n",
              "</table>\n",
              "</div>\n",
              "      <button class=\"colab-df-convert\" onclick=\"convertToInteractive('df-988f5842-4ae5-4dc6-b782-f1be032b6c22')\"\n",
              "              title=\"Convert this dataframe to an interactive table.\"\n",
              "              style=\"display:none;\">\n",
              "        \n",
              "  <svg xmlns=\"http://www.w3.org/2000/svg\" height=\"24px\"viewBox=\"0 0 24 24\"\n",
              "       width=\"24px\">\n",
              "    <path d=\"M0 0h24v24H0V0z\" fill=\"none\"/>\n",
              "    <path d=\"M18.56 5.44l.94 2.06.94-2.06 2.06-.94-2.06-.94-.94-2.06-.94 2.06-2.06.94zm-11 1L8.5 8.5l.94-2.06 2.06-.94-2.06-.94L8.5 2.5l-.94 2.06-2.06.94zm10 10l.94 2.06.94-2.06 2.06-.94-2.06-.94-.94-2.06-.94 2.06-2.06.94z\"/><path d=\"M17.41 7.96l-1.37-1.37c-.4-.4-.92-.59-1.43-.59-.52 0-1.04.2-1.43.59L10.3 9.45l-7.72 7.72c-.78.78-.78 2.05 0 2.83L4 21.41c.39.39.9.59 1.41.59.51 0 1.02-.2 1.41-.59l7.78-7.78 2.81-2.81c.8-.78.8-2.07 0-2.86zM5.41 20L4 18.59l7.72-7.72 1.47 1.35L5.41 20z\"/>\n",
              "  </svg>\n",
              "      </button>\n",
              "      \n",
              "  <style>\n",
              "    .colab-df-container {\n",
              "      display:flex;\n",
              "      flex-wrap:wrap;\n",
              "      gap: 12px;\n",
              "    }\n",
              "\n",
              "    .colab-df-convert {\n",
              "      background-color: #E8F0FE;\n",
              "      border: none;\n",
              "      border-radius: 50%;\n",
              "      cursor: pointer;\n",
              "      display: none;\n",
              "      fill: #1967D2;\n",
              "      height: 32px;\n",
              "      padding: 0 0 0 0;\n",
              "      width: 32px;\n",
              "    }\n",
              "\n",
              "    .colab-df-convert:hover {\n",
              "      background-color: #E2EBFA;\n",
              "      box-shadow: 0px 1px 2px rgba(60, 64, 67, 0.3), 0px 1px 3px 1px rgba(60, 64, 67, 0.15);\n",
              "      fill: #174EA6;\n",
              "    }\n",
              "\n",
              "    [theme=dark] .colab-df-convert {\n",
              "      background-color: #3B4455;\n",
              "      fill: #D2E3FC;\n",
              "    }\n",
              "\n",
              "    [theme=dark] .colab-df-convert:hover {\n",
              "      background-color: #434B5C;\n",
              "      box-shadow: 0px 1px 3px 1px rgba(0, 0, 0, 0.15);\n",
              "      filter: drop-shadow(0px 1px 2px rgba(0, 0, 0, 0.3));\n",
              "      fill: #FFFFFF;\n",
              "    }\n",
              "  </style>\n",
              "\n",
              "      <script>\n",
              "        const buttonEl =\n",
              "          document.querySelector('#df-988f5842-4ae5-4dc6-b782-f1be032b6c22 button.colab-df-convert');\n",
              "        buttonEl.style.display =\n",
              "          google.colab.kernel.accessAllowed ? 'block' : 'none';\n",
              "\n",
              "        async function convertToInteractive(key) {\n",
              "          const element = document.querySelector('#df-988f5842-4ae5-4dc6-b782-f1be032b6c22');\n",
              "          const dataTable =\n",
              "            await google.colab.kernel.invokeFunction('convertToInteractive',\n",
              "                                                     [key], {});\n",
              "          if (!dataTable) return;\n",
              "\n",
              "          const docLinkHtml = 'Like what you see? Visit the ' +\n",
              "            '<a target=\"_blank\" href=https://colab.research.google.com/notebooks/data_table.ipynb>data table notebook</a>'\n",
              "            + ' to learn more about interactive tables.';\n",
              "          element.innerHTML = '';\n",
              "          dataTable['output_type'] = 'display_data';\n",
              "          await google.colab.output.renderOutput(dataTable, element);\n",
              "          const docLink = document.createElement('div');\n",
              "          docLink.innerHTML = docLinkHtml;\n",
              "          element.appendChild(docLink);\n",
              "        }\n",
              "      </script>\n",
              "    </div>\n",
              "  </div>\n",
              "  "
            ]
          },
          "metadata": {},
          "execution_count": 8
        }
      ]
    },
    {
      "cell_type": "markdown",
      "metadata": {
        "id": "H6GARQekjAxi"
      },
      "source": [
        "**Inspecting and cleaning up the frame**"
      ]
    },
    {
      "cell_type": "code",
      "metadata": {
        "id": "wc6EPUEBWvIq"
      },
      "source": [
        "# check for the missing values and dataframes\n",
        "def inspection(dataframe):\n",
        "  print(\"Types of the variables we are working with:\")\n",
        "  print(dataframe.dtypes) # dtypes\n",
        "  print(\"____\"*10)\n",
        "  print(\"Total Samples with missing values (ROWs):\")\n",
        "  print(df.isnull().any(axis=1).sum()) # null values\n",
        "  print(\"____\"*10)\n",
        "  print(\"Total Missing Values per Variable (columns)\")\n",
        "  print(df.isnull().sum())\n",
        "  print(\"____\"*10)\n",
        "  print(\"Map of missing values\")\n",
        "  sns.heatmap(dataframe.isnull())"
      ],
      "execution_count": null,
      "outputs": []
    },
    {
      "cell_type": "code",
      "metadata": {
        "colab": {
          "base_uri": "https://localhost:8080/",
          "height": 1000
        },
        "id": "aB6NkvMPX9Fx",
        "outputId": "5e78159e-6350-469f-d5a5-7a763761bfb4"
      },
      "source": [
        "inspection(df)"
      ],
      "execution_count": null,
      "outputs": [
        {
          "output_type": "stream",
          "name": "stdout",
          "text": [
            "Types of the variables we are working with:\n",
            "year                        int64\n",
            "customer_id                 int64\n",
            "phone_no                   object\n",
            "gender                     object\n",
            "age                         int64\n",
            "no_of_days_subscribed       int64\n",
            "multi_screen               object\n",
            "mail_subscribed            object\n",
            "weekly_mins_watched       float64\n",
            "minimum_daily_mins        float64\n",
            "maximum_daily_mins        float64\n",
            "weekly_max_night_mins       int64\n",
            "videos_watched              int64\n",
            "maximum_days_inactive     float64\n",
            "customer_support_calls      int64\n",
            "churn                     float64\n",
            "dtype: object\n",
            "________________________________________\n",
            "Total Samples with missing values (ROWs):\n",
            "82\n",
            "________________________________________\n",
            "Total Missing Values per Variable (columns)\n",
            "year                       0\n",
            "customer_id                0\n",
            "phone_no                   0\n",
            "gender                    24\n",
            "age                        0\n",
            "no_of_days_subscribed      0\n",
            "multi_screen               0\n",
            "mail_subscribed            0\n",
            "weekly_mins_watched        0\n",
            "minimum_daily_mins         0\n",
            "maximum_daily_mins         0\n",
            "weekly_max_night_mins      0\n",
            "videos_watched             0\n",
            "maximum_days_inactive     28\n",
            "customer_support_calls     0\n",
            "churn                     35\n",
            "dtype: int64\n",
            "________________________________________\n",
            "Map of missing values\n"
          ]
        },
        {
          "output_type": "display_data",
          "data": {
            "text/plain": [
              "<Figure size 640x480 with 2 Axes>"
            ],
            "image/png": "[encoded data removed]"
          },
          "metadata": {}
        }
      ]
    },
    {
      "cell_type": "code",
      "source": [
        "82/df.shape[0]*100"
      ],
      "metadata": {
        "colab": {
          "base_uri": "https://localhost:8080/"
        },
        "id": "-aazpzI0Ge9A",
        "outputId": "eb207b54-c434-426b-e0d4-8382e68318ef"
      },
      "execution_count": null,
      "outputs": [
        {
          "output_type": "execute_result",
          "data": {
            "text/plain": [
              "4.1000000000000005"
            ]
          },
          "metadata": {},
          "execution_count": 17
        }
      ]
    },
    {
      "cell_type": "code",
      "metadata": {
        "id": "kQVFmR-pjiJj",
        "colab": {
          "base_uri": "https://localhost:8080/"
        },
        "outputId": "05c8e574-da8b-435e-990d-427f9d66a399"
      },
      "source": [
        "df = df.dropna() # cleaning up null values\n",
        "df.shape"
      ],
      "execution_count": null,
      "outputs": [
        {
          "output_type": "execute_result",
          "data": {
            "text/plain": [
              "(1918, 16)"
            ]
          },
          "metadata": {},
          "execution_count": 18
        }
      ]
    },
    {
      "cell_type": "code",
      "source": [
        "df.isna().sum()"
      ],
      "metadata": {
        "colab": {
          "base_uri": "https://localhost:8080/"
        },
        "id": "HvfvglIWRCVS",
        "outputId": "66cad2c3-7741-43b2-c643-b1c065514052"
      },
      "execution_count": null,
      "outputs": [
        {
          "output_type": "execute_result",
          "data": {
            "text/plain": [
              "year                      0\n",
              "customer_id               0\n",
              "phone_no                  0\n",
              "gender                    0\n",
              "age                       0\n",
              "no_of_days_subscribed     0\n",
              "multi_screen              0\n",
              "mail_subscribed           0\n",
              "weekly_mins_watched       0\n",
              "minimum_daily_mins        0\n",
              "maximum_daily_mins        0\n",
              "weekly_max_night_mins     0\n",
              "videos_watched            0\n",
              "maximum_days_inactive     0\n",
              "customer_support_calls    0\n",
              "churn                     0\n",
              "dtype: int64"
            ]
          },
          "metadata": {},
          "execution_count": 19
        }
      ]
    },
    {
      "cell_type": "markdown",
      "metadata": {
        "id": "oVzfj0xT0mwW"
      },
      "source": [
        "**Encoding categorical variables**"
      ]
    },
    {
      "cell_type": "code",
      "metadata": {
        "colab": {
          "base_uri": "https://localhost:8080/"
        },
        "id": "JIhM7AMh2wMI",
        "outputId": "45f13819-20cc-4b4c-f31c-0e562720653a"
      },
      "source": [
        "df.head(5)\n",
        "\n",
        "df.multi_screen.unique()"
      ],
      "execution_count": null,
      "outputs": [
        {
          "output_type": "execute_result",
          "data": {
            "text/plain": [
              "array(['no', 'yes'], dtype=object)"
            ]
          },
          "metadata": {},
          "execution_count": 20
        }
      ]
    },
    {
      "cell_type": "code",
      "source": [
        "df.columns"
      ],
      "metadata": {
        "colab": {
          "base_uri": "https://localhost:8080/"
        },
        "id": "yKxl0phERTCN",
        "outputId": "d0747dbe-4579-4c9b-8c03-dda485aa22f3"
      },
      "execution_count": null,
      "outputs": [
        {
          "output_type": "execute_result",
          "data": {
            "text/plain": [
              "Index(['year', 'customer_id', 'phone_no', 'gender', 'age',\n",
              "       'no_of_days_subscribed', 'multi_screen', 'mail_subscribed',\n",
              "       'weekly_mins_watched', 'minimum_daily_mins', 'maximum_daily_mins',\n",
              "       'weekly_max_night_mins', 'videos_watched', 'maximum_days_inactive',\n",
              "       'customer_support_calls', 'churn'],\n",
              "      dtype='object')"
            ]
          },
          "metadata": {},
          "execution_count": 22
        }
      ]
    },
    {
      "cell_type": "code",
      "source": [
        "from sklearn.feature_selection import VarianceThreshold\n",
        "# Feature selector that removes all low-variance features.\n",
        "# remove the features that have the same value in all samples.\n",
        "selector = VarianceThreshold()\n",
        "cols = df.select_dtypes(exclude='O').columns.tolist()\n",
        "print(cols)\n",
        "selector.fit_transform(df[cols])\n",
        "sel_cols = df.select_dtypes(exclude='O').columns[selector.get_support()]\n",
        "constant_columns = [column for column in cols if column not in sel_cols]\n",
        "\n",
        "print(\"feature with 0.0 variance which is not useful for model training: \", constant_columns)"
      ],
      "metadata": {
        "colab": {
          "base_uri": "https://localhost:8080/"
        },
        "id": "P8CVehPwHf-1",
        "outputId": "ca39e649-b9ff-4cdc-bf65-6f0f1bfb530e"
      },
      "execution_count": null,
      "outputs": [
        {
          "output_type": "stream",
          "name": "stdout",
          "text": [
            "['year', 'customer_id', 'age', 'no_of_days_subscribed', 'weekly_mins_watched', 'minimum_daily_mins', 'maximum_daily_mins', 'weekly_max_night_mins', 'videos_watched', 'maximum_days_inactive', 'customer_support_calls', 'churn']\n",
            "feature with 0.0 variance which is not useful for model training:  ['year']\n"
          ]
        }
      ]
    },
    {
      "cell_type": "code",
      "source": [
        "drop_cols = ['year', 'customer_id', 'phone_no']\n",
        "df = df.drop(drop_cols, axis=1)\n",
        "df.shape"
      ],
      "metadata": {
        "colab": {
          "base_uri": "https://localhost:8080/"
        },
        "id": "XrxSJ8EqKczP",
        "outputId": "ce00a380-bb35-4733-96a5-fc9d191a42b5"
      },
      "execution_count": null,
      "outputs": [
        {
          "output_type": "execute_result",
          "data": {
            "text/plain": [
              "(1918, 13)"
            ]
          },
          "metadata": {},
          "execution_count": 37
        }
      ]
    },
    {
      "cell_type": "code",
      "source": [
        "cat_cols = df.select_dtypes(include='O').columns.tolist()\n",
        "print(cat_cols)\n",
        "print(\"___\"*10)\n",
        "num_cols = df.select_dtypes(exclude='O').columns.tolist()\n",
        "print(num_cols)"
      ],
      "metadata": {
        "colab": {
          "base_uri": "https://localhost:8080/"
        },
        "id": "KCHfWQgEG5oi",
        "outputId": "d4f64c21-d3b3-481a-9baa-c65af8fcf409"
      },
      "execution_count": null,
      "outputs": [
        {
          "output_type": "stream",
          "name": "stdout",
          "text": [
            "['gender', 'multi_screen', 'mail_subscribed']\n",
            "______________________________\n",
            "['age', 'no_of_days_subscribed', 'weekly_mins_watched', 'minimum_daily_mins', 'maximum_daily_mins', 'weekly_max_night_mins', 'videos_watched', 'maximum_days_inactive', 'customer_support_calls', 'churn']\n"
          ]
        }
      ]
    },
    {
      "cell_type": "code",
      "metadata": {
        "colab": {
          "base_uri": "https://localhost:8080/"
        },
        "id": "xGnuojAZzgSG",
        "outputId": "b9855383-ce53-4b23-d6c9-0a499327abfa"
      },
      "source": [
        "# function for encoding categorical variables\n",
        "def encode_categories (df, variables):\n",
        "  ord_enc = OrdinalEncoder()\n",
        "  for v in variables:\n",
        "    name = v+'_code' # add _code for encoded variables\n",
        "    df[name] = ord_enc.fit_transform(df[[v]])\n",
        "    print('The encoded values for '+ v + ' are:')\n",
        "    print(df[name].unique())\n",
        "\n",
        "\n",
        "# check for the encoded variables\n",
        "# encode_categories (df,['gender','multi_screen','mail_subscribed'])\n",
        "encode_categories(df, cat_cols)"
      ],
      "execution_count": null,
      "outputs": [
        {
          "output_type": "stream",
          "name": "stdout",
          "text": [
            "The encoded values for gender are:\n",
            "[0. 1.]\n",
            "The encoded values for multi_screen are:\n",
            "[0. 1.]\n",
            "The encoded values for mail_subscribed are:\n",
            "[0. 1.]\n"
          ]
        }
      ]
    },
    {
      "cell_type": "code",
      "source": [
        "df.head()"
      ],
      "metadata": {
        "colab": {
          "base_uri": "https://localhost:8080/",
          "height": 270
        },
        "id": "Kr7-Rc9TLH5w",
        "outputId": "1b2c4d7d-bf79-4452-dccc-385c9adf03f7"
      },
      "execution_count": null,
      "outputs": [
        {
          "output_type": "execute_result",
          "data": {
            "text/plain": [
              "   gender  age  no_of_days_subscribed multi_screen mail_subscribed  \\\n",
              "0  Female   36                     62           no              no   \n",
              "1  Female   39                    149           no              no   \n",
              "2  Female   65                    126           no              no   \n",
              "3  Female   24                    131           no             yes   \n",
              "4  Female   40                    191           no              no   \n",
              "\n",
              "   weekly_mins_watched  minimum_daily_mins  maximum_daily_mins  \\\n",
              "0               148.35                12.2               16.81   \n",
              "1               294.45                 7.7               33.37   \n",
              "2                87.30                11.9                9.89   \n",
              "3               321.30                 9.5               36.41   \n",
              "4               243.00                10.9               27.54   \n",
              "\n",
              "   weekly_max_night_mins  videos_watched  maximum_days_inactive  \\\n",
              "0                     82               1                    4.0   \n",
              "1                     87               3                    3.0   \n",
              "2                     91               1                    4.0   \n",
              "3                    102               4                    3.0   \n",
              "4                     83               7                    3.0   \n",
              "\n",
              "   customer_support_calls  churn  gender_code  multi_screen_code  \\\n",
              "0                       1    0.0          0.0                0.0   \n",
              "1                       2    0.0          0.0                0.0   \n",
              "2                       5    1.0          0.0                0.0   \n",
              "3                       3    0.0          0.0                0.0   \n",
              "4                       1    0.0          0.0                0.0   \n",
              "\n",
              "   mail_subscribed_code  \n",
              "0                   0.0  \n",
              "1                   0.0  \n",
              "2                   0.0  \n",
              "3                   1.0  \n",
              "4                   0.0  "
            ],
            "text/html": [
              "\n",
              "  <div id=\"df-0bc6b255-5245-42ee-8894-0f117539abfc\">\n",
              "    <div class=\"colab-df-container\">\n",
              "      <div>\n",
              "<style scoped>\n",
              "    .dataframe tbody tr th:only-of-type {\n",
              "        vertical-align: middle;\n",
              "    }\n",
              "\n",
              "    .dataframe tbody tr th {\n",
              "        vertical-align: top;\n",
              "    }\n",
              "\n",
              "    .dataframe thead th {\n",
              "        text-align: right;\n",
              "    }\n",
              "</style>\n",
              "<table border=\"1\" class=\"dataframe\">\n",
              "  <thead>\n",
              "    <tr style=\"text-align: right;\">\n",
              "      <th></th>\n",
              "      <th>gender</th>\n",
              "      <th>age</th>\n",
              "      <th>no_of_days_subscribed</th>\n",
              "      <th>multi_screen</th>\n",
              "      <th>mail_subscribed</th>\n",
              "      <th>weekly_mins_watched</th>\n",
              "      <th>minimum_daily_mins</th>\n",
              "      <th>maximum_daily_mins</th>\n",
              "      <th>weekly_max_night_mins</th>\n",
              "      <th>videos_watched</th>\n",
              "      <th>maximum_days_inactive</th>\n",
              "      <th>customer_support_calls</th>\n",
              "      <th>churn</th>\n",
              "      <th>gender_code</th>\n",
              "      <th>multi_screen_code</th>\n",
              "      <th>mail_subscribed_code</th>\n",
              "    </tr>\n",
              "  </thead>\n",
              "  <tbody>\n",
              "    <tr>\n",
              "      <th>0</th>\n",
              "      <td>Female</td>\n",
              "      <td>36</td>\n",
              "      <td>62</td>\n",
              "      <td>no</td>\n",
              "      <td>no</td>\n",
              "      <td>148.35</td>\n",
              "      <td>12.2</td>\n",
              "      <td>16.81</td>\n",
              "      <td>82</td>\n",
              "      <td>1</td>\n",
              "      <td>4.0</td>\n",
              "      <td>1</td>\n",
              "      <td>0.0</td>\n",
              "      <td>0.0</td>\n",
              "      <td>0.0</td>\n",
              "      <td>0.0</td>\n",
              "    </tr>\n",
              "    <tr>\n",
              "      <th>1</th>\n",
              "      <td>Female</td>\n",
              "      <td>39</td>\n",
              "      <td>149</td>\n",
              "      <td>no</td>\n",
              "      <td>no</td>\n",
              "      <td>294.45</td>\n",
              "      <td>7.7</td>\n",
              "      <td>33.37</td>\n",
              "      <td>87</td>\n",
              "      <td>3</td>\n",
              "      <td>3.0</td>\n",
              "      <td>2</td>\n",
              "      <td>0.0</td>\n",
              "      <td>0.0</td>\n",
              "      <td>0.0</td>\n",
              "      <td>0.0</td>\n",
              "    </tr>\n",
              "    <tr>\n",
              "      <th>2</th>\n",
              "      <td>Female</td>\n",
              "      <td>65</td>\n",
              "      <td>126</td>\n",
              "      <td>no</td>\n",
              "      <td>no</td>\n",
              "      <td>87.30</td>\n",
              "      <td>11.9</td>\n",
              "      <td>9.89</td>\n",
              "      <td>91</td>\n",
              "      <td>1</td>\n",
              "      <td>4.0</td>\n",
              "      <td>5</td>\n",
              "      <td>1.0</td>\n",
              "      <td>0.0</td>\n",
              "      <td>0.0</td>\n",
              "      <td>0.0</td>\n",
              "    </tr>\n",
              "    <tr>\n",
              "      <th>3</th>\n",
              "      <td>Female</td>\n",
              "      <td>24</td>\n",
              "      <td>131</td>\n",
              "      <td>no</td>\n",
              "      <td>yes</td>\n",
              "      <td>321.30</td>\n",
              "      <td>9.5</td>\n",
              "      <td>36.41</td>\n",
              "      <td>102</td>\n",
              "      <td>4</td>\n",
              "      <td>3.0</td>\n",
              "      <td>3</td>\n",
              "      <td>0.0</td>\n",
              "      <td>0.0</td>\n",
              "      <td>0.0</td>\n",
              "      <td>1.0</td>\n",
              "    </tr>\n",
              "    <tr>\n",
              "      <th>4</th>\n",
              "      <td>Female</td>\n",
              "      <td>40</td>\n",
              "      <td>191</td>\n",
              "      <td>no</td>\n",
              "      <td>no</td>\n",
              "      <td>243.00</td>\n",
              "      <td>10.9</td>\n",
              "      <td>27.54</td>\n",
              "      <td>83</td>\n",
              "      <td>7</td>\n",
              "      <td>3.0</td>\n",
              "      <td>1</td>\n",
              "      <td>0.0</td>\n",
              "      <td>0.0</td>\n",
              "      <td>0.0</td>\n",
              "      <td>0.0</td>\n",
              "    </tr>\n",
              "  </tbody>\n",
              "</table>\n",
              "</div>\n",
              "      <button class=\"colab-df-convert\" onclick=\"convertToInteractive('df-0bc6b255-5245-42ee-8894-0f117539abfc')\"\n",
              "              title=\"Convert this dataframe to an interactive table.\"\n",
              "              style=\"display:none;\">\n",
              "        \n",
              "  <svg xmlns=\"http://www.w3.org/2000/svg\" height=\"24px\"viewBox=\"0 0 24 24\"\n",
              "       width=\"24px\">\n",
              "    <path d=\"M0 0h24v24H0V0z\" fill=\"none\"/>\n",
              "    <path d=\"M18.56 5.44l.94 2.06.94-2.06 2.06-.94-2.06-.94-.94-2.06-.94 2.06-2.06.94zm-11 1L8.5 8.5l.94-2.06 2.06-.94-2.06-.94L8.5 2.5l-.94 2.06-2.06.94zm10 10l.94 2.06.94-2.06 2.06-.94-2.06-.94-.94-2.06-.94 2.06-2.06.94z\"/><path d=\"M17.41 7.96l-1.37-1.37c-.4-.4-.92-.59-1.43-.59-.52 0-1.04.2-1.43.59L10.3 9.45l-7.72 7.72c-.78.78-.78 2.05 0 2.83L4 21.41c.39.39.9.59 1.41.59.51 0 1.02-.2 1.41-.59l7.78-7.78 2.81-2.81c.8-.78.8-2.07 0-2.86zM5.41 20L4 18.59l7.72-7.72 1.47 1.35L5.41 20z\"/>\n",
              "  </svg>\n",
              "      </button>\n",
              "      \n",
              "  <style>\n",
              "    .colab-df-container {\n",
              "      display:flex;\n",
              "      flex-wrap:wrap;\n",
              "      gap: 12px;\n",
              "    }\n",
              "\n",
              "    .colab-df-convert {\n",
              "      background-color: #E8F0FE;\n",
              "      border: none;\n",
              "      border-radius: 50%;\n",
              "      cursor: pointer;\n",
              "      display: none;\n",
              "      fill: #1967D2;\n",
              "      height: 32px;\n",
              "      padding: 0 0 0 0;\n",
              "      width: 32px;\n",
              "    }\n",
              "\n",
              "    .colab-df-convert:hover {\n",
              "      background-color: #E2EBFA;\n",
              "      box-shadow: 0px 1px 2px rgba(60, 64, 67, 0.3), 0px 1px 3px 1px rgba(60, 64, 67, 0.15);\n",
              "      fill: #174EA6;\n",
              "    }\n",
              "\n",
              "    [theme=dark] .colab-df-convert {\n",
              "      background-color: #3B4455;\n",
              "      fill: #D2E3FC;\n",
              "    }\n",
              "\n",
              "    [theme=dark] .colab-df-convert:hover {\n",
              "      background-color: #434B5C;\n",
              "      box-shadow: 0px 1px 3px 1px rgba(0, 0, 0, 0.15);\n",
              "      filter: drop-shadow(0px 1px 2px rgba(0, 0, 0, 0.3));\n",
              "      fill: #FFFFFF;\n",
              "    }\n",
              "  </style>\n",
              "\n",
              "      <script>\n",
              "        const buttonEl =\n",
              "          document.querySelector('#df-0bc6b255-5245-42ee-8894-0f117539abfc button.colab-df-convert');\n",
              "        buttonEl.style.display =\n",
              "          google.colab.kernel.accessAllowed ? 'block' : 'none';\n",
              "\n",
              "        async function convertToInteractive(key) {\n",
              "          const element = document.querySelector('#df-0bc6b255-5245-42ee-8894-0f117539abfc');\n",
              "          const dataTable =\n",
              "            await google.colab.kernel.invokeFunction('convertToInteractive',\n",
              "                                                     [key], {});\n",
              "          if (!dataTable) return;\n",
              "\n",
              "          const docLinkHtml = 'Like what you see? Visit the ' +\n",
              "            '<a target=\"_blank\" href=https://colab.research.google.com/notebooks/data_table.ipynb>data table notebook</a>'\n",
              "            + ' to learn more about interactive tables.';\n",
              "          element.innerHTML = '';\n",
              "          dataTable['output_type'] = 'display_data';\n",
              "          await google.colab.output.renderOutput(dataTable, element);\n",
              "          const docLink = document.createElement('div');\n",
              "          docLink.innerHTML = docLinkHtml;\n",
              "          element.appendChild(docLink);\n",
              "        }\n",
              "      </script>\n",
              "    </div>\n",
              "  </div>\n",
              "  "
            ]
          },
          "metadata": {},
          "execution_count": 40
        }
      ]
    },
    {
      "cell_type": "code",
      "source": [
        "df[['gender', 'gender_code']].value_counts()"
      ],
      "metadata": {
        "colab": {
          "base_uri": "https://localhost:8080/"
        },
        "id": "Svr8xexrLSFx",
        "outputId": "418f1660-bfb7-4d1c-e666-36745ddae50f"
      },
      "execution_count": null,
      "outputs": [
        {
          "output_type": "execute_result",
          "data": {
            "text/plain": [
              "gender  gender_code\n",
              "Male    1.0            1021\n",
              "Female  0.0             897\n",
              "dtype: int64"
            ]
          },
          "metadata": {},
          "execution_count": 41
        }
      ]
    },
    {
      "cell_type": "markdown",
      "metadata": {
        "id": "BjkyOSKajnXG"
      },
      "source": [
        "**Do some data visualizations**"
      ]
    },
    {
      "cell_type": "code",
      "metadata": {
        "id": "8-xWWq-FV_tI"
      },
      "source": [
        "def plot_scatterplots (df,cols_to_exclude,class_col):\n",
        "  #this function returns scatterplots of all the variables in the dataset\n",
        "  #against the classification variable,\n",
        "  #for a quick data visualization\n",
        "\n",
        "  cols = df.select_dtypes(include=np.number).columns.tolist() #finding all the numerical columns from the dataframe\n",
        "  X=df[cols] #creating a dataframe only with the numerical columns\n",
        "  X = X[X.columns.difference(cols_to_exclude)] #columns to exclude\n",
        "  for col in X.columns.difference([class_col]):\n",
        "    g = sns.FacetGrid(df)\n",
        "    g.map(sns.scatterplot, col, class_col)"
      ],
      "execution_count": null,
      "outputs": []
    },
    {
      "cell_type": "code",
      "metadata": {
        "colab": {
          "base_uri": "https://localhost:8080/",
          "height": 1000
        },
        "id": "59I-WELMWM_0",
        "outputId": "69a6a4f1-b840-4c06-d721-115933950b9b"
      },
      "source": [
        "# plot\n",
        "plot_scatterplots (df,['customer_id','phone_no', 'year'],'churn')"
      ],
      "execution_count": null,
      "outputs": [
        {
          "output_type": "display_data",
          "data": {
            "text/plain": [
              "<Figure size 300x300 with 1 Axes>"
            ],
            "image/png": "[encoded data removed]"
          },
          "metadata": {}
        },
        {
          "output_type": "display_data",
          "data": {
            "text/plain": [
              "<Figure size 300x300 with 1 Axes>"
            ],
            "image/png": "[encoded data removed]"
          },
          "metadata": {}
        },
        {
          "output_type": "display_data",
          "data": {
            "text/plain": [
              "<Figure size 300x300 with 1 Axes>"
            ],
            "image/png": "[encoded data removed]"
          },
          "metadata": {}
        },
        {
          "output_type": "display_data",
          "data": {
            "text/plain": [
              "<Figure size 300x300 with 1 Axes>"
            ],
            "image/png": "[encoded data removed]"
          },
          "metadata": {}
        },
        {
          "output_type": "display_data",
          "data": {
            "text/plain": [
              "<Figure size 300x300 with 1 Axes>"
            ],
            "image/png": "[encoded data removed]"
          },
          "metadata": {}
        },
        {
          "output_type": "display_data",
          "data": {
            "text/plain": [
              "<Figure size 300x300 with 1 Axes>"
            ],
            "image/png": "[encoded data removed]"
          },
          "metadata": {}
        },
        {
          "output_type": "display_data",
          "data": {
            "text/plain": [
              "<Figure size 300x300 with 1 Axes>"
            ],
            "image/png": "[encoded data removed]"
          },
          "metadata": {}
        },
        {
          "output_type": "display_data",
          "data": {
            "text/plain": [
              "<Figure size 300x300 with 1 Axes>"
            ],
            "image/png": "[encoded data removed]"
          },
          "metadata": {}
        },
        {
          "output_type": "display_data",
          "data": {
            "text/plain": [
              "<Figure size 300x300 with 1 Axes>"
            ],
            "image/png": "[encoded data removed]"
          },
          "metadata": {}
        },
        {
          "output_type": "display_data",
          "data": {
            "text/plain": [
              "<Figure size 300x300 with 1 Axes>"
            ],
            "image/png": "[encoded data removed]"
          },
          "metadata": {}
        },
        {
          "output_type": "display_data",
          "data": {
            "text/plain": [
              "<Figure size 300x300 with 1 Axes>"
            ],
            "image/png": "[encoded data removed]"
          },
          "metadata": {}
        },
        {
          "output_type": "display_data",
          "data": {
            "text/plain": [
              "<Figure size 300x300 with 1 Axes>"
            ],
            "image/png": "[encoded data removed]"
          },
          "metadata": {}
        }
      ]
    },
    {
      "cell_type": "code",
      "metadata": {
        "id": "dVcl9m6-XhX2"
      },
      "source": [
        "def full_diagnostic(df,class_col): #,cols_to_exclude):\n",
        "\n",
        "  cols=df.select_dtypes(include=np.number).columns.tolist() #finding all the numerical columns from the dataframe\n",
        "  X=df[cols] #creating a dataframe only with the numerical columns\n",
        "  #X = X[X.columns.difference(cols_to_exclude)] #columns to exclude\n",
        "  X = X[X.columns.difference([class_col])]\n",
        "  sns.pairplot(X, hue = class_col)"
      ],
      "execution_count": null,
      "outputs": []
    },
    {
      "cell_type": "code",
      "metadata": {
        "id": "mhtOwq2-YADb"
      },
      "source": [
        "#full_diagnostic(df, class_col = 'churn')#, cols_to_exclude=['customer_id','phone_no', 'year'])\n",
        "# cols=df.select_dtypes(include=np.number).columns.tolist()\n",
        "# X=df[cols]\n",
        "# X = X[X.columns.difference(['churn'])]\n",
        "# sns.pairplot(df, hue = df['churn'])"
      ],
      "execution_count": null,
      "outputs": []
    },
    {
      "cell_type": "code",
      "metadata": {
        "id": "KkQ0mOtRUQOb"
      },
      "source": [
        "# function for creating plots for selective columns only\n",
        "def selected_diagnotic(df,class_col,cols_to_eval):\n",
        "  cols_to_eval.append(class_col)\n",
        "  X = df[cols_to_eval] # only selective columns\n",
        "  sns.pairplot(X,hue = class_col) # plot"
      ],
      "execution_count": null,
      "outputs": []
    },
    {
      "cell_type": "code",
      "metadata": {
        "colab": {
          "base_uri": "https://localhost:8080/",
          "height": 513
        },
        "id": "on5q6dJuWqG_",
        "outputId": "aa4a7fef-2d4a-4ce4-c31c-3de537337567"
      },
      "source": [
        "selected_diagnotic(df,class_col = 'churn',cols_to_eval = ['videos_watched','no_of_days_subscribed'])"
      ],
      "execution_count": null,
      "outputs": [
        {
          "output_type": "display_data",
          "data": {
            "text/plain": [
              "<Figure size 572x500 with 6 Axes>"
            ],
            "image/png": "[encoded data removed]"
          },
          "metadata": {}
        }
      ]
    },
    {
      "cell_type": "code",
      "source": [
        "df = df.drop(cat_cols, axis=1)\n",
        "df.shape"
      ],
      "metadata": {
        "colab": {
          "base_uri": "https://localhost:8080/"
        },
        "id": "uN12QHI0NvAB",
        "outputId": "1f9365b1-c050-4213-b85b-f2f19dca9d6e"
      },
      "execution_count": null,
      "outputs": [
        {
          "output_type": "execute_result",
          "data": {
            "text/plain": [
              "(1918, 13)"
            ]
          },
          "metadata": {},
          "execution_count": 55
        }
      ]
    },
    {
      "cell_type": "code",
      "source": [
        "df.head().append(df.tail())"
      ],
      "metadata": {
        "colab": {
          "base_uri": "https://localhost:8080/",
          "height": 427
        },
        "id": "UNRICbgsTiSK",
        "outputId": "12335f56-104d-4693-8460-9355f90cd819"
      },
      "execution_count": null,
      "outputs": [
        {
          "output_type": "execute_result",
          "data": {
            "text/plain": [
              "      age  no_of_days_subscribed  weekly_mins_watched  minimum_daily_mins  \\\n",
              "0      36                     62               148.35                12.2   \n",
              "1      39                    149               294.45                 7.7   \n",
              "2      65                    126                87.30                11.9   \n",
              "3      24                    131               321.30                 9.5   \n",
              "4      40                    191               243.00                10.9   \n",
              "1990   32                     61                67.50                 9.8   \n",
              "1991   49                     50               460.65                 8.0   \n",
              "1992   42                    119               176.70                 7.6   \n",
              "1996   45                    127               273.45                 9.3   \n",
              "1999   37                     73               326.70                10.3   \n",
              "\n",
              "      maximum_daily_mins  weekly_max_night_mins  videos_watched  \\\n",
              "0                  16.81                     82               1   \n",
              "1                  33.37                     87               3   \n",
              "2                   9.89                     91               1   \n",
              "3                  36.41                    102               4   \n",
              "4                  27.54                     83               7   \n",
              "1990                7.65                     94               6   \n",
              "1991               52.21                    109               3   \n",
              "1992               20.03                     76               3   \n",
              "1996               30.99                    116               3   \n",
              "1999               37.03                     89               6   \n",
              "\n",
              "      maximum_days_inactive  customer_support_calls  churn  gender_code  \\\n",
              "0                       4.0                       1    0.0          0.0   \n",
              "1                       3.0                       2    0.0          0.0   \n",
              "2                       4.0                       5    1.0          0.0   \n",
              "3                       3.0                       3    0.0          0.0   \n",
              "4                       3.0                       1    0.0          0.0   \n",
              "1990                    3.0                       2    0.0          1.0   \n",
              "1991                    3.0                       0    0.0          1.0   \n",
              "1992                    3.0                       3    0.0          0.0   \n",
              "1996                    3.0                       1    0.0          1.0   \n",
              "1999                    3.0                       1    1.0          1.0   \n",
              "\n",
              "      multi_screen_code  mail_subscribed_code  \n",
              "0                   0.0                   0.0  \n",
              "1                   0.0                   0.0  \n",
              "2                   0.0                   0.0  \n",
              "3                   0.0                   1.0  \n",
              "4                   0.0                   0.0  \n",
              "1990                0.0                   0.0  \n",
              "1991                1.0                   1.0  \n",
              "1992                0.0                   1.0  \n",
              "1996                0.0                   0.0  \n",
              "1999                0.0                   0.0  "
            ],
            "text/html": [
              "\n",
              "  <div id=\"df-dbb1c8f8-946b-4c0e-a0d3-db480d49929a\">\n",
              "    <div class=\"colab-df-container\">\n",
              "      <div>\n",
              "<style scoped>\n",
              "    .dataframe tbody tr th:only-of-type {\n",
              "        vertical-align: middle;\n",
              "    }\n",
              "\n",
              "    .dataframe tbody tr th {\n",
              "        vertical-align: top;\n",
              "    }\n",
              "\n",
              "    .dataframe thead th {\n",
              "        text-align: right;\n",
              "    }\n",
              "</style>\n",
              "<table border=\"1\" class=\"dataframe\">\n",
              "  <thead>\n",
              "    <tr style=\"text-align: right;\">\n",
              "      <th></th>\n",
              "      <th>age</th>\n",
              "      <th>no_of_days_subscribed</th>\n",
              "      <th>weekly_mins_watched</th>\n",
              "      <th>minimum_daily_mins</th>\n",
              "      <th>maximum_daily_mins</th>\n",
              "      <th>weekly_max_night_mins</th>\n",
              "      <th>videos_watched</th>\n",
              "      <th>maximum_days_inactive</th>\n",
              "      <th>customer_support_calls</th>\n",
              "      <th>churn</th>\n",
              "      <th>gender_code</th>\n",
              "      <th>multi_screen_code</th>\n",
              "      <th>mail_subscribed_code</th>\n",
              "    </tr>\n",
              "  </thead>\n",
              "  <tbody>\n",
              "    <tr>\n",
              "      <th>0</th>\n",
              "      <td>36</td>\n",
              "      <td>62</td>\n",
              "      <td>148.35</td>\n",
              "      <td>12.2</td>\n",
              "      <td>16.81</td>\n",
              "      <td>82</td>\n",
              "      <td>1</td>\n",
              "      <td>4.0</td>\n",
              "      <td>1</td>\n",
              "      <td>0.0</td>\n",
              "      <td>0.0</td>\n",
              "      <td>0.0</td>\n",
              "      <td>0.0</td>\n",
              "    </tr>\n",
              "    <tr>\n",
              "      <th>1</th>\n",
              "      <td>39</td>\n",
              "      <td>149</td>\n",
              "      <td>294.45</td>\n",
              "      <td>7.7</td>\n",
              "      <td>33.37</td>\n",
              "      <td>87</td>\n",
              "      <td>3</td>\n",
              "      <td>3.0</td>\n",
              "      <td>2</td>\n",
              "      <td>0.0</td>\n",
              "      <td>0.0</td>\n",
              "      <td>0.0</td>\n",
              "      <td>0.0</td>\n",
              "    </tr>\n",
              "    <tr>\n",
              "      <th>2</th>\n",
              "      <td>65</td>\n",
              "      <td>126</td>\n",
              "      <td>87.30</td>\n",
              "      <td>11.9</td>\n",
              "      <td>9.89</td>\n",
              "      <td>91</td>\n",
              "      <td>1</td>\n",
              "      <td>4.0</td>\n",
              "      <td>5</td>\n",
              "      <td>1.0</td>\n",
              "      <td>0.0</td>\n",
              "      <td>0.0</td>\n",
              "      <td>0.0</td>\n",
              "    </tr>\n",
              "    <tr>\n",
              "      <th>3</th>\n",
              "      <td>24</td>\n",
              "      <td>131</td>\n",
              "      <td>321.30</td>\n",
              "      <td>9.5</td>\n",
              "      <td>36.41</td>\n",
              "      <td>102</td>\n",
              "      <td>4</td>\n",
              "      <td>3.0</td>\n",
              "      <td>3</td>\n",
              "      <td>0.0</td>\n",
              "      <td>0.0</td>\n",
              "      <td>0.0</td>\n",
              "      <td>1.0</td>\n",
              "    </tr>\n",
              "    <tr>\n",
              "      <th>4</th>\n",
              "      <td>40</td>\n",
              "      <td>191</td>\n",
              "      <td>243.00</td>\n",
              "      <td>10.9</td>\n",
              "      <td>27.54</td>\n",
              "      <td>83</td>\n",
              "      <td>7</td>\n",
              "      <td>3.0</td>\n",
              "      <td>1</td>\n",
              "      <td>0.0</td>\n",
              "      <td>0.0</td>\n",
              "      <td>0.0</td>\n",
              "      <td>0.0</td>\n",
              "    </tr>\n",
              "    <tr>\n",
              "      <th>1990</th>\n",
              "      <td>32</td>\n",
              "      <td>61</td>\n",
              "      <td>67.50</td>\n",
              "      <td>9.8</td>\n",
              "      <td>7.65</td>\n",
              "      <td>94</td>\n",
              "      <td>6</td>\n",
              "      <td>3.0</td>\n",
              "      <td>2</td>\n",
              "      <td>0.0</td>\n",
              "      <td>1.0</td>\n",
              "      <td>0.0</td>\n",
              "      <td>0.0</td>\n",
              "    </tr>\n",
              "    <tr>\n",
              "      <th>1991</th>\n",
              "      <td>49</td>\n",
              "      <td>50</td>\n",
              "      <td>460.65</td>\n",
              "      <td>8.0</td>\n",
              "      <td>52.21</td>\n",
              "      <td>109</td>\n",
              "      <td>3</td>\n",
              "      <td>3.0</td>\n",
              "      <td>0</td>\n",
              "      <td>0.0</td>\n",
              "      <td>1.0</td>\n",
              "      <td>1.0</td>\n",
              "      <td>1.0</td>\n",
              "    </tr>\n",
              "    <tr>\n",
              "      <th>1992</th>\n",
              "      <td>42</td>\n",
              "      <td>119</td>\n",
              "      <td>176.70</td>\n",
              "      <td>7.6</td>\n",
              "      <td>20.03</td>\n",
              "      <td>76</td>\n",
              "      <td>3</td>\n",
              "      <td>3.0</td>\n",
              "      <td>3</td>\n",
              "      <td>0.0</td>\n",
              "      <td>0.0</td>\n",
              "      <td>0.0</td>\n",
              "      <td>1.0</td>\n",
              "    </tr>\n",
              "    <tr>\n",
              "      <th>1996</th>\n",
              "      <td>45</td>\n",
              "      <td>127</td>\n",
              "      <td>273.45</td>\n",
              "      <td>9.3</td>\n",
              "      <td>30.99</td>\n",
              "      <td>116</td>\n",
              "      <td>3</td>\n",
              "      <td>3.0</td>\n",
              "      <td>1</td>\n",
              "      <td>0.0</td>\n",
              "      <td>1.0</td>\n",
              "      <td>0.0</td>\n",
              "      <td>0.0</td>\n",
              "    </tr>\n",
              "    <tr>\n",
              "      <th>1999</th>\n",
              "      <td>37</td>\n",
              "      <td>73</td>\n",
              "      <td>326.70</td>\n",
              "      <td>10.3</td>\n",
              "      <td>37.03</td>\n",
              "      <td>89</td>\n",
              "      <td>6</td>\n",
              "      <td>3.0</td>\n",
              "      <td>1</td>\n",
              "      <td>1.0</td>\n",
              "      <td>1.0</td>\n",
              "      <td>0.0</td>\n",
              "      <td>0.0</td>\n",
              "    </tr>\n",
              "  </tbody>\n",
              "</table>\n",
              "</div>\n",
              "      <button class=\"colab-df-convert\" onclick=\"convertToInteractive('df-dbb1c8f8-946b-4c0e-a0d3-db480d49929a')\"\n",
              "              title=\"Convert this dataframe to an interactive table.\"\n",
              "              style=\"display:none;\">\n",
              "        \n",
              "  <svg xmlns=\"http://www.w3.org/2000/svg\" height=\"24px\"viewBox=\"0 0 24 24\"\n",
              "       width=\"24px\">\n",
              "    <path d=\"M0 0h24v24H0V0z\" fill=\"none\"/>\n",
              "    <path d=\"M18.56 5.44l.94 2.06.94-2.06 2.06-.94-2.06-.94-.94-2.06-.94 2.06-2.06.94zm-11 1L8.5 8.5l.94-2.06 2.06-.94-2.06-.94L8.5 2.5l-.94 2.06-2.06.94zm10 10l.94 2.06.94-2.06 2.06-.94-2.06-.94-.94-2.06-.94 2.06-2.06.94z\"/><path d=\"M17.41 7.96l-1.37-1.37c-.4-.4-.92-.59-1.43-.59-.52 0-1.04.2-1.43.59L10.3 9.45l-7.72 7.72c-.78.78-.78 2.05 0 2.83L4 21.41c.39.39.9.59 1.41.59.51 0 1.02-.2 1.41-.59l7.78-7.78 2.81-2.81c.8-.78.8-2.07 0-2.86zM5.41 20L4 18.59l7.72-7.72 1.47 1.35L5.41 20z\"/>\n",
              "  </svg>\n",
              "      </button>\n",
              "      \n",
              "  <style>\n",
              "    .colab-df-container {\n",
              "      display:flex;\n",
              "      flex-wrap:wrap;\n",
              "      gap: 12px;\n",
              "    }\n",
              "\n",
              "    .colab-df-convert {\n",
              "      background-color: #E8F0FE;\n",
              "      border: none;\n",
              "      border-radius: 50%;\n",
              "      cursor: pointer;\n",
              "      display: none;\n",
              "      fill: #1967D2;\n",
              "      height: 32px;\n",
              "      padding: 0 0 0 0;\n",
              "      width: 32px;\n",
              "    }\n",
              "\n",
              "    .colab-df-convert:hover {\n",
              "      background-color: #E2EBFA;\n",
              "      box-shadow: 0px 1px 2px rgba(60, 64, 67, 0.3), 0px 1px 3px 1px rgba(60, 64, 67, 0.15);\n",
              "      fill: #174EA6;\n",
              "    }\n",
              "\n",
              "    [theme=dark] .colab-df-convert {\n",
              "      background-color: #3B4455;\n",
              "      fill: #D2E3FC;\n",
              "    }\n",
              "\n",
              "    [theme=dark] .colab-df-convert:hover {\n",
              "      background-color: #434B5C;\n",
              "      box-shadow: 0px 1px 3px 1px rgba(0, 0, 0, 0.15);\n",
              "      filter: drop-shadow(0px 1px 2px rgba(0, 0, 0, 0.3));\n",
              "      fill: #FFFFFF;\n",
              "    }\n",
              "  </style>\n",
              "\n",
              "      <script>\n",
              "        const buttonEl =\n",
              "          document.querySelector('#df-dbb1c8f8-946b-4c0e-a0d3-db480d49929a button.colab-df-convert');\n",
              "        buttonEl.style.display =\n",
              "          google.colab.kernel.accessAllowed ? 'block' : 'none';\n",
              "\n",
              "        async function convertToInteractive(key) {\n",
              "          const element = document.querySelector('#df-dbb1c8f8-946b-4c0e-a0d3-db480d49929a');\n",
              "          const dataTable =\n",
              "            await google.colab.kernel.invokeFunction('convertToInteractive',\n",
              "                                                     [key], {});\n",
              "          if (!dataTable) return;\n",
              "\n",
              "          const docLinkHtml = 'Like what you see? Visit the ' +\n",
              "            '<a target=\"_blank\" href=https://colab.research.google.com/notebooks/data_table.ipynb>data table notebook</a>'\n",
              "            + ' to learn more about interactive tables.';\n",
              "          element.innerHTML = '';\n",
              "          dataTable['output_type'] = 'display_data';\n",
              "          await google.colab.output.renderOutput(dataTable, element);\n",
              "          const docLink = document.createElement('div');\n",
              "          docLink.innerHTML = docLinkHtml;\n",
              "          element.appendChild(docLink);\n",
              "        }\n",
              "      </script>\n",
              "    </div>\n",
              "  </div>\n",
              "  "
            ]
          },
          "metadata": {},
          "execution_count": 56
        }
      ]
    },
    {
      "cell_type": "code",
      "source": [
        "df['churn'].value_counts()"
      ],
      "metadata": {
        "colab": {
          "base_uri": "https://localhost:8080/"
        },
        "id": "uR_JXxWCjsc0",
        "outputId": "547aca3e-179b-46f8-fb49-474086f728bf"
      },
      "execution_count": null,
      "outputs": [
        {
          "output_type": "execute_result",
          "data": {
            "text/plain": [
              "0.0    1665\n",
              "1.0     253\n",
              "Name: churn, dtype: int64"
            ]
          },
          "metadata": {},
          "execution_count": 57
        }
      ]
    },
    {
      "cell_type": "code",
      "source": [
        "df['churn'].value_counts(normalize=True)"
      ],
      "metadata": {
        "colab": {
          "base_uri": "https://localhost:8080/"
        },
        "id": "oXMYSm2Fj2Qa",
        "outputId": "aa85d266-8344-429a-a7ce-9a69d4040f39"
      },
      "execution_count": null,
      "outputs": [
        {
          "output_type": "execute_result",
          "data": {
            "text/plain": [
              "0.0    0.868092\n",
              "1.0    0.131908\n",
              "Name: churn, dtype: float64"
            ]
          },
          "metadata": {},
          "execution_count": 58
        }
      ]
    },
    {
      "cell_type": "markdown",
      "metadata": {
        "id": "GdXYkHqvj8Zu"
      },
      "source": [
        "# **logistic regression**"
      ]
    },
    {
      "cell_type": "code",
      "source": [
        "import statsmodels.api as sm\n",
        "import numpy as np\n",
        "import matplotlib.pyplot as plt\n",
        "from sklearn.metrics import roc_auc_score\n",
        "from sklearn.metrics import roc_curve\n",
        "from sklearn.linear_model import LogisticRegression\n",
        "from sklearn.metrics import roc_auc_score,classification_report\n"
      ],
      "metadata": {
        "id": "QJGVNSpyS5cU"
      },
      "execution_count": null,
      "outputs": []
    },
    {
      "cell_type": "code",
      "source": [
        "def logistic_regression(df,class_col):\n",
        "\n",
        "  cols=df.select_dtypes(include=np.number).columns.tolist()\n",
        "  X=df[cols]\n",
        "  X = X[X.columns.difference([class_col])]\n",
        "\n",
        "  ## Scaling variables\n",
        "  ##from sklearn import preprocessing\n",
        "  ##scaler = preprocessing.StandardScaler().fit(X)\n",
        "  ##X_scaled = scaler.transform(X)\n",
        "  #X_Scale = scaler.transform(X)\n",
        "  y=df[class_col] # the target variable\n",
        "  logit_model=sm.Logit(y,X)\n",
        "  result=logit_model.fit() # fit the model\n",
        "  print(result.summary2()) # check for summary\n",
        "\n",
        "\n",
        "logistic_regression(df,class_col = 'churn')"
      ],
      "metadata": {
        "colab": {
          "base_uri": "https://localhost:8080/"
        },
        "id": "G_G4v1bSOaxx",
        "outputId": "c90a1575-e484-4bdd-9eec-857756abddf1"
      },
      "execution_count": null,
      "outputs": [
        {
          "output_type": "stream",
          "name": "stdout",
          "text": [
            "Optimization terminated successfully.\n",
            "         Current function value: 0.336585\n",
            "         Iterations 7\n",
            "                            Results: Logit\n",
            "=======================================================================\n",
            "Model:                Logit              Pseudo R-squared:   0.137     \n",
            "Dependent Variable:   churn              AIC:                1315.1404 \n",
            "Date:                 2023-05-23 06:13   BIC:                1381.8488 \n",
            "No. Observations:     1918               Log-Likelihood:     -645.57   \n",
            "Df Model:             11                 LL-Null:            -748.02   \n",
            "Df Residuals:         1906               LLR p-value:        7.1751e-38\n",
            "Converged:            1.0000             Scale:              1.0000    \n",
            "No. Iterations:       7.0000                                           \n",
            "-----------------------------------------------------------------------\n",
            "                        Coef.  Std.Err.    z    P>|z|   [0.025   0.975]\n",
            "-----------------------------------------------------------------------\n",
            "age                    -0.0208   0.0068 -3.0739 0.0021  -0.0340 -0.0075\n",
            "customer_support_calls  0.4246   0.0505  8.4030 0.0000   0.3256  0.5237\n",
            "gender_code            -0.2144   0.1446 -1.4824 0.1382  -0.4979  0.0691\n",
            "mail_subscribed_code   -0.7529   0.1798 -4.1873 0.0000  -1.1053 -0.4005\n",
            "maximum_daily_mins     -3.7125  25.2522 -0.1470 0.8831 -53.2058 45.7809\n",
            "maximum_days_inactive  -0.7870   0.2473 -3.1828 0.0015  -1.2716 -0.3024\n",
            "minimum_daily_mins      0.2075   0.0727  2.8555 0.0043   0.0651  0.3499\n",
            "multi_screen_code       1.9511   0.1831 10.6562 0.0000   1.5923  2.3100\n",
            "no_of_days_subscribed  -0.0045   0.0018 -2.5572 0.0106  -0.0080 -0.0011\n",
            "videos_watched         -0.0948   0.0317 -2.9954 0.0027  -0.1569 -0.0328\n",
            "weekly_max_night_mins  -0.0169   0.0032 -5.3119 0.0000  -0.0231 -0.0107\n",
            "weekly_mins_watched     0.4248   2.8619  0.1484 0.8820  -5.1844  6.0340\n",
            "=======================================================================\n",
            "\n"
          ]
        }
      ]
    },
    {
      "cell_type": "code",
      "source": [
        "## Scaling variables\n",
        "from sklearn.preprocessing import StandardScaler\n",
        "\n",
        "def logistic_regression_scale(df, class_col):\n",
        "\n",
        "  cols=df.select_dtypes(include=np.number).columns.tolist()\n",
        "  X=df[cols]\n",
        "  X = X[X.columns.difference([class_col])]\n",
        "\n",
        "  scaler = StandardScaler().fit(X)\n",
        "  X_scaled = scaler.transform(X)\n",
        "  y = df[class_col]                  # the target variable\n",
        "  logit_model=sm.Logit(y, X_scaled)\n",
        "  result=logit_model.fit()           # fit the model\n",
        "  print(result.summary2())           # check for summary\n",
        "\n",
        "logistic_regression_scale(df,class_col = 'churn')"
      ],
      "metadata": {
        "colab": {
          "base_uri": "https://localhost:8080/"
        },
        "id": "i0JOXnLGOSmp",
        "outputId": "c5abf508-aef7-4583-f3fa-e4cfdcbf9562"
      },
      "execution_count": null,
      "outputs": [
        {
          "output_type": "stream",
          "name": "stdout",
          "text": [
            "Optimization terminated successfully.\n",
            "         Current function value: 0.655564\n",
            "         Iterations 7\n",
            "                         Results: Logit\n",
            "================================================================\n",
            "Model:              Logit            Pseudo R-squared: -0.681   \n",
            "Dependent Variable: churn            AIC:              2538.7422\n",
            "Date:               2023-05-23 06:14 BIC:              2605.4506\n",
            "No. Observations:   1918             Log-Likelihood:   -1257.4  \n",
            "Df Model:           11               LL-Null:          -748.02  \n",
            "Df Residuals:       1906             LLR p-value:      1.0000   \n",
            "Converged:          1.0000           Scale:            1.0000   \n",
            "No. Iterations:     7.0000                                      \n",
            "------------------------------------------------------------------\n",
            "       Coef.    Std.Err.      z      P>|z|      [0.025     0.975] \n",
            "------------------------------------------------------------------\n",
            "x1     0.0211     0.0475    0.4447   0.6565     -0.0720     0.1142\n",
            "x2     0.3197     0.0492    6.5036   0.0000      0.2233     0.4160\n",
            "x3    -0.0222     0.0476   -0.4670   0.6405     -0.1154     0.0710\n",
            "x4    -0.1180     0.0477   -2.4725   0.0134     -0.2115    -0.0245\n",
            "x5     9.5630   152.9279    0.0625   0.9501   -290.1703   309.2962\n",
            "x6    -0.1804     0.1308   -1.3792   0.1678     -0.4368     0.0760\n",
            "x7     0.2688     0.1311    2.0492   0.0404      0.0117     0.5258\n",
            "x8     0.3982     0.0541    7.3671   0.0000      0.2923     0.5041\n",
            "x9    -0.0027     0.0474   -0.0574   0.9542     -0.0956     0.0902\n",
            "x10   -0.0488     0.0476   -1.0259   0.3049     -0.1421     0.0444\n",
            "x11   -0.0069     0.0476   -0.1452   0.8845     -0.1002     0.0864\n",
            "x12   -9.3288   152.9277   -0.0610   0.9514   -309.0615   290.4039\n",
            "================================================================\n",
            "\n"
          ]
        }
      ]
    },
    {
      "cell_type": "code",
      "metadata": {
        "colab": {
          "base_uri": "https://localhost:8080/"
        },
        "id": "CylJ_cx8lLgS",
        "outputId": "0a52c1e1-3a45-4c99-c9e8-b7481048f431"
      },
      "source": [
        "# logistic_regression(df,class_col = 'churn',cols_to_exclude=['customer_id','phone_no', 'year'])\n",
        "logistic_regression(df,class_col = 'churn')"
      ],
      "execution_count": null,
      "outputs": [
        {
          "output_type": "stream",
          "name": "stdout",
          "text": [
            "Optimization terminated successfully.\n",
            "         Current function value: 0.336585\n",
            "         Iterations 7\n",
            "                            Results: Logit\n",
            "=======================================================================\n",
            "Model:                Logit              Pseudo R-squared:   0.137     \n",
            "Dependent Variable:   churn              AIC:                1315.1404 \n",
            "Date:                 2023-04-25 08:48   BIC:                1381.8488 \n",
            "No. Observations:     1918               Log-Likelihood:     -645.57   \n",
            "Df Model:             11                 LL-Null:            -748.02   \n",
            "Df Residuals:         1906               LLR p-value:        7.1751e-38\n",
            "Converged:            1.0000             Scale:              1.0000    \n",
            "No. Iterations:       7.0000                                           \n",
            "-----------------------------------------------------------------------\n",
            "                        Coef.  Std.Err.    z    P>|z|   [0.025   0.975]\n",
            "-----------------------------------------------------------------------\n",
            "age                    -0.0208   0.0068 -3.0739 0.0021  -0.0340 -0.0075\n",
            "customer_support_calls  0.4246   0.0505  8.4030 0.0000   0.3256  0.5237\n",
            "gender_code            -0.2144   0.1446 -1.4824 0.1382  -0.4979  0.0691\n",
            "mail_subscribed_code   -0.7529   0.1798 -4.1873 0.0000  -1.1053 -0.4005\n",
            "maximum_daily_mins     -3.7125  25.2522 -0.1470 0.8831 -53.2058 45.7809\n",
            "maximum_days_inactive  -0.7870   0.2473 -3.1828 0.0015  -1.2716 -0.3024\n",
            "minimum_daily_mins      0.2075   0.0727  2.8555 0.0043   0.0651  0.3499\n",
            "multi_screen_code       1.9511   0.1831 10.6562 0.0000   1.5923  2.3100\n",
            "no_of_days_subscribed  -0.0045   0.0018 -2.5572 0.0106  -0.0080 -0.0011\n",
            "videos_watched         -0.0948   0.0317 -2.9954 0.0027  -0.1569 -0.0328\n",
            "weekly_max_night_mins  -0.0169   0.0032 -5.3119 0.0000  -0.0231 -0.0107\n",
            "weekly_mins_watched     0.4248   2.8619  0.1484 0.8820  -5.1844  6.0340\n",
            "=======================================================================\n",
            "\n"
          ]
        }
      ]
    },
    {
      "cell_type": "code",
      "metadata": {
        "colab": {
          "base_uri": "https://localhost:8080/"
        },
        "id": "YwJXEAWS_w-m",
        "outputId": "ab8e1b8d-2d00-4449-f13f-fdfe8461499c"
      },
      "source": [
        "import math\n",
        "math.exp(1.9511)\n",
        "math.exp(-0.0208)"
      ],
      "execution_count": null,
      "outputs": [
        {
          "output_type": "execute_result",
          "data": {
            "text/plain": [
              "0.9794148279480585"
            ]
          },
          "metadata": {},
          "execution_count": 64
        }
      ]
    },
    {
      "cell_type": "markdown",
      "metadata": {
        "id": "rvpRVergnb5d"
      },
      "source": [
        "**Run the ML Model**"
      ]
    },
    {
      "cell_type": "code",
      "source": [
        "from sklearn.model_selection import train_test_split\n",
        "import numpy as np\n",
        "from sklearn.linear_model import LogisticRegression\n",
        "from sklearn.metrics import roc_auc_score,classification_report\n",
        "from sklearn.metrics import confusion_matrix"
      ],
      "metadata": {
        "id": "CcTx9VGhUEuQ"
      },
      "execution_count": null,
      "outputs": []
    },
    {
      "cell_type": "code",
      "metadata": {
        "id": "H9VkVEB6lTvZ"
      },
      "source": [
        "## Split in training and test set\n",
        "\n",
        "def prepare_model(df,class_col):\n",
        "  ##Selecting only the numerical columns and excluding the columns we specified in the function\n",
        "  cols=df.select_dtypes(include=np.number).columns.tolist()\n",
        "  X=df[cols]\n",
        "  X = X[X.columns.difference([class_col])]\n",
        "  #X = X[X.columns.difference(cols_to_exclude)]\n",
        "  ##Selecting y as a column\n",
        "  y = df[class_col]\n",
        "  global X_train, X_test, y_train, y_test #This allow us to do call these variables outside this function\n",
        "  X_train, X_test, y_train, y_test = train_test_split(X, y, test_size=0.3, random_state=0) # perform train test split"
      ],
      "execution_count": null,
      "outputs": []
    },
    {
      "cell_type": "code",
      "metadata": {
        "id": "HaJzCmF0l6n9"
      },
      "source": [
        "def run_model(X_train,X_test,y_train,y_test):\n",
        "\n",
        "  global logreg #Defines the logistic model as a global model that can be used outside of this function\n",
        "  ##Fitting the logistic regression\n",
        "  logreg = LogisticRegression(random_state = 13)\n",
        "  logreg.fit(X_train, y_train) # fit the model\n",
        "  ##Predicting y values\n",
        "  global y_pred #Defines the Y_Pred as a global variable that can be used outside of this function\n",
        "  y_pred = logreg.predict(X_test) # make predictions on th test data\n",
        "  logit_roc_auc = roc_auc_score(y_test, logreg.predict(X_test))\n",
        "  print(classification_report(y_test, y_pred)) # check for classification report\n",
        "  print(\"The area under the curve is: %0.2f\"%logit_roc_auc)  # check for  AUC\n",
        "\n",
        "\n",
        "\n",
        "def run_model_scaled(X_train,X_test,y_train,y_test):\n",
        "\n",
        "  global logreg1 #Defines the logistic model as a global model that can be used outside of this function\n",
        "  ##Fitting the logistic regression\n",
        "  logreg1 = LogisticRegression(random_state = 13)\n",
        "  sc = StandardScaler()\n",
        "  sc.fit(X_train)\n",
        "  X_train = sc.transform(X_train)\n",
        "  X_test = sc.transform(X_test)\n",
        "\n",
        "  logreg1.fit(X_train, y_train) # fit the model\n",
        "  ##Predicting y values\n",
        "  global y_pred #Defines the Y_Pred as a global variable that can be used outside of this function\n",
        "  y_pred = logreg1.predict(X_test) # make predictions on th test data\n",
        "  logit_roc_auc = roc_auc_score(y_test, logreg1.predict(X_test))\n",
        "  print(classification_report(y_test, y_pred)) # check for classification report\n",
        "  print(\"The area under the curve (Scaled Data) is: %0.2f\"%logit_roc_auc)  # check for  AUC"
      ],
      "execution_count": null,
      "outputs": []
    },
    {
      "cell_type": "code",
      "metadata": {
        "id": "GsjB3X51m5Fh"
      },
      "source": [
        "prepare_model(df,class_col='churn') #,cols_to_exclude=['customer_id','phone_no', 'year'])"
      ],
      "execution_count": null,
      "outputs": []
    },
    {
      "cell_type": "code",
      "metadata": {
        "colab": {
          "base_uri": "https://localhost:8080/"
        },
        "id": "kI622RnHl7nQ",
        "outputId": "937e74bd-cae1-4a58-f459-bd6ffbf99930"
      },
      "source": [
        "prepare_model(df,class_col='churn')\n",
        "run_model(X_train, X_test, y_train, y_test)"
      ],
      "execution_count": null,
      "outputs": [
        {
          "output_type": "stream",
          "name": "stdout",
          "text": [
            "              precision    recall  f1-score   support\n",
            "\n",
            "         0.0       0.90      0.98      0.94       513\n",
            "         1.0       0.47      0.13      0.20        63\n",
            "\n",
            "    accuracy                           0.89       576\n",
            "   macro avg       0.69      0.55      0.57       576\n",
            "weighted avg       0.85      0.89      0.86       576\n",
            "\n",
            "The area under the curve is: 0.55\n"
          ]
        }
      ]
    },
    {
      "cell_type": "code",
      "source": [
        "prepare_model(df,class_col='churn')\n",
        "run_model_scaled(X_train, X_test, y_train, y_test)"
      ],
      "metadata": {
        "colab": {
          "base_uri": "https://localhost:8080/"
        },
        "id": "Z4aqrbUaRc_D",
        "outputId": "31feff82-0164-4924-bfd2-a3650b3b18a6"
      },
      "execution_count": null,
      "outputs": [
        {
          "output_type": "stream",
          "name": "stdout",
          "text": [
            "              precision    recall  f1-score   support\n",
            "\n",
            "         0.0       0.91      0.97      0.94       513\n",
            "         1.0       0.46      0.17      0.25        63\n",
            "\n",
            "    accuracy                           0.89       576\n",
            "   macro avg       0.68      0.57      0.60       576\n",
            "weighted avg       0.86      0.89      0.86       576\n",
            "\n",
            "The area under the curve (Scaled Data) is: 0.57\n"
          ]
        }
      ]
    },
    {
      "cell_type": "code",
      "metadata": {
        "id": "l1foHWuxfpr7"
      },
      "source": [
        "def confusion_matrix_fun(y_test,y_pred):\n",
        "\n",
        "  confusion_matrix1 = confusion_matrix(y_test, y_pred) # confusion matrix\n",
        "  print(confusion_matrix1)\n",
        "\n",
        "  tn, fp, fn, tp = confusion_matrix1.ravel()\n",
        "  print('TN: %0.2f'% tn)\n",
        "  print('TP: %0.2f'% tp)\n",
        "  print('FP: %0.2f'%fp)\n",
        "  print('FN: %0.2f'%fn)"
      ],
      "execution_count": null,
      "outputs": []
    },
    {
      "cell_type": "code",
      "metadata": {
        "id": "a4Ey_UoPhPyA"
      },
      "source": [
        "def roc_curve_fun(logreg, X_test, y_test):\n",
        "\n",
        "  logit_roc_auc = roc_auc_score(y_test, logreg.predict(X_test)) # ROC AUC score\n",
        "  fpr, tpr, thresholds = roc_curve(y_test, logreg.predict(X_test)) # ROC curve\n",
        "  #Setting the graph area\n",
        "  plt.figure()\n",
        "  plt.xlim([0.0, 1.0])\n",
        "  plt.ylim([0.0, 1.05])\n",
        "\n",
        "  #Plotting the worst line possiple\n",
        "  plt.plot([0, 1], [0, 1],'b--')\n",
        "\n",
        "  #Plotting the logistic regression we have built\n",
        "  plt.plot(fpr, tpr, color='darkorange', label='Logistic Regression (area = %0.2f)' % logit_roc_auc)\n",
        "\n",
        "  #Adding labels and etc\n",
        "  plt.xlabel('False Positive Rate')\n",
        "  plt.ylabel('True Positive Rate')\n",
        "  plt.title('ROC Curve')\n",
        "  plt.legend(loc=\"lower right\")\n",
        "  plt.savefig('Log_ROC')\n",
        "  plt.show()"
      ],
      "execution_count": null,
      "outputs": []
    },
    {
      "cell_type": "code",
      "metadata": {
        "id": "yq0wpXL1W9_r"
      },
      "source": [
        "\n",
        "prepare_model(df,class_col='churn')"
      ],
      "execution_count": null,
      "outputs": []
    },
    {
      "cell_type": "code",
      "metadata": {
        "colab": {
          "base_uri": "https://localhost:8080/"
        },
        "id": "2oWalmMthDpe",
        "outputId": "6afb250d-a645-442e-f626-34967c3f9166"
      },
      "source": [
        "confusion_matrix_fun(y_test,y_pred)"
      ],
      "execution_count": null,
      "outputs": [
        {
          "output_type": "stream",
          "name": "stdout",
          "text": [
            "[[500  13]\n",
            " [ 52  11]]\n",
            "TN: 500.00\n",
            "TP: 11.00\n",
            "FP: 13.00\n",
            "FN: 52.00\n"
          ]
        }
      ]
    },
    {
      "cell_type": "code",
      "metadata": {
        "colab": {
          "base_uri": "https://localhost:8080/",
          "height": 472
        },
        "id": "L1QuPyvkha9_",
        "outputId": "44c30c59-80ec-4c28-a711-bc51a2c62274"
      },
      "source": [
        "roc_curve_fun(logreg, X_test, y_test)"
      ],
      "execution_count": null,
      "outputs": [
        {
          "output_type": "display_data",
          "data": {
            "text/plain": [
              "<Figure size 640x480 with 1 Axes>"
            ],
            "image/png": "[encoded data removed]"
          },
          "metadata": {}
        }
      ]
    },
    {
      "cell_type": "markdown",
      "metadata": {
        "id": "ldC5r_JWio4O"
      },
      "source": [
        "# **Saving & Running the Model**"
      ]
    },
    {
      "cell_type": "code",
      "metadata": {
        "id": "oJF0KxgJi2O2"
      },
      "source": [
        "# save the model using pickle function\n",
        "import pickle\n",
        "pickle.dump(logreg, open('model1.pkl', 'wb'))"
      ],
      "execution_count": null,
      "outputs": []
    },
    {
      "cell_type": "code",
      "metadata": {
        "id": "d4Z7SwrRjAJy"
      },
      "source": [
        "# load the saved model\n",
        "model = pickle.load(open('model1.pkl', 'rb'))"
      ],
      "execution_count": null,
      "outputs": []
    },
    {
      "cell_type": "code",
      "metadata": {
        "colab": {
          "base_uri": "https://localhost:8080/"
        },
        "id": "WcMJMy9tjRDw",
        "outputId": "e3e77341-c53b-4a3c-c223-3119b94baafc"
      },
      "source": [
        "# make predictions on the test data\n",
        "model.predict(X_test)"
      ],
      "execution_count": null,
      "outputs": [
        {
          "output_type": "execute_result",
          "data": {
            "text/plain": [
              "array([0., 0., 0., 0., 0., 0., 0., 0., 0., 0., 0., 0., 0., 0., 0., 0., 0.,\n",
              "       0., 0., 0., 0., 0., 0., 0., 0., 0., 0., 0., 0., 0., 0., 0., 0., 0.,\n",
              "       0., 0., 0., 0., 0., 0., 0., 0., 0., 0., 0., 0., 0., 0., 0., 0., 0.,\n",
              "       0., 0., 0., 0., 0., 0., 0., 0., 0., 0., 0., 0., 0., 0., 0., 0., 0.,\n",
              "       0., 0., 0., 0., 0., 0., 0., 0., 0., 0., 0., 0., 0., 0., 0., 0., 0.,\n",
              "       0., 0., 0., 0., 0., 0., 0., 0., 0., 0., 0., 0., 0., 0., 0., 0., 0.,\n",
              "       0., 0., 1., 0., 0., 0., 0., 0., 0., 0., 0., 0., 0., 0., 0., 0., 0.,\n",
              "       0., 0., 0., 0., 0., 0., 0., 0., 0., 0., 0., 0., 0., 0., 0., 0., 0.,\n",
              "       0., 0., 0., 0., 0., 0., 0., 0., 0., 0., 0., 0., 0., 0., 0., 0., 0.,\n",
              "       0., 0., 0., 0., 0., 0., 0., 0., 0., 0., 1., 0., 0., 0., 0., 0., 0.,\n",
              "       0., 0., 0., 0., 0., 0., 0., 0., 0., 0., 0., 0., 0., 0., 0., 0., 0.,\n",
              "       0., 0., 0., 0., 0., 0., 0., 0., 0., 0., 0., 0., 0., 0., 0., 0., 0.,\n",
              "       0., 0., 0., 0., 0., 0., 0., 0., 0., 0., 1., 1., 0., 0., 0., 0., 0.,\n",
              "       0., 0., 0., 0., 0., 0., 0., 0., 0., 0., 0., 0., 1., 0., 0., 0., 0.,\n",
              "       0., 0., 0., 0., 0., 0., 0., 0., 0., 0., 0., 1., 0., 0., 0., 0., 0.,\n",
              "       0., 0., 1., 0., 0., 0., 0., 0., 0., 0., 0., 0., 0., 0., 0., 0., 0.,\n",
              "       0., 0., 0., 0., 0., 0., 1., 0., 0., 0., 1., 0., 0., 0., 0., 0., 0.,\n",
              "       0., 0., 0., 0., 0., 0., 0., 0., 0., 0., 0., 0., 0., 0., 0., 0., 0.,\n",
              "       0., 0., 0., 1., 0., 0., 0., 0., 0., 0., 0., 0., 0., 0., 0., 0., 0.,\n",
              "       0., 0., 0., 0., 0., 0., 0., 0., 0., 0., 0., 0., 0., 0., 0., 0., 0.,\n",
              "       0., 1., 0., 0., 0., 0., 0., 0., 0., 0., 0., 0., 0., 0., 0., 0., 0.,\n",
              "       0., 0., 0., 0., 0., 0., 0., 0., 0., 0., 0., 0., 0., 0., 0., 0., 0.,\n",
              "       0., 0., 0., 0., 0., 0., 0., 0., 0., 0., 0., 0., 0., 0., 0., 0., 0.,\n",
              "       0., 0., 0., 0., 0., 0., 0., 0., 0., 0., 0., 0., 0., 0., 0., 0., 0.,\n",
              "       0., 0., 0., 0., 0., 0., 0., 0., 1., 0., 0., 0., 0., 0., 0., 0., 0.,\n",
              "       0., 0., 0., 1., 0., 0., 0., 0., 0., 1., 0., 0., 0., 0., 0., 0., 0.,\n",
              "       0., 0., 0., 0., 0., 0., 0., 0., 0., 0., 0., 0., 1., 0., 0., 0., 0.,\n",
              "       0., 0., 0., 0., 0., 0., 0., 0., 0., 0., 0., 0., 0., 0., 0., 0., 0.,\n",
              "       0., 0., 0., 0., 0., 0., 1., 0., 0., 0., 1., 0., 0., 0., 0., 0., 0.,\n",
              "       0., 0., 0., 0., 0., 0., 0., 0., 0., 0., 0., 0., 0., 0., 0., 0., 0.,\n",
              "       0., 0., 0., 0., 0., 0., 0., 0., 0., 0., 0., 0., 0., 0., 0., 0., 0.,\n",
              "       0., 0., 0., 0., 0., 0., 0., 0., 0., 0., 0., 0., 0., 0., 0., 0., 0.,\n",
              "       0., 0., 0., 0., 0., 0., 0., 0., 0., 0., 0., 0., 0., 0., 0., 0., 0.,\n",
              "       0., 0., 0., 0., 0., 0., 0., 0., 0., 0., 0., 0., 0., 0., 0.])"
            ]
          },
          "metadata": {},
          "execution_count": 30
        }
      ]
    },
    {
      "cell_type": "markdown",
      "metadata": {
        "id": "nvWxQe87saFd"
      },
      "source": [
        "# **Dealing with Class Imbalance**"
      ]
    },
    {
      "cell_type": "code",
      "metadata": {
        "colab": {
          "base_uri": "https://localhost:8080/"
        },
        "id": "PMxhAmJWpDPC",
        "outputId": "d58cb34f-0129-4876-86f6-2d558cc094cc"
      },
      "source": [
        "# check the target variable\n",
        "df['churn'].describe()"
      ],
      "execution_count": null,
      "outputs": [
        {
          "output_type": "execute_result",
          "data": {
            "text/plain": [
              "count    1918.000000\n",
              "mean        0.131908\n",
              "std         0.338479\n",
              "min         0.000000\n",
              "25%         0.000000\n",
              "50%         0.000000\n",
              "75%         0.000000\n",
              "max         1.000000\n",
              "Name: churn, dtype: float64"
            ]
          },
          "metadata": {},
          "execution_count": 78
        }
      ]
    },
    {
      "cell_type": "code",
      "metadata": {
        "id": "ksRCpBZCng5k"
      },
      "source": [
        "# class imbalance method 1 : class_weight = 'balanced'\n",
        "def run_model_bweights(X_train,X_test,y_train,y_test):\n",
        "\n",
        "    global logreg\n",
        "    logreg = LogisticRegression(random_state = 13, class_weight = 'balanced') # define class_weight parameter\n",
        "    logreg.fit(X_train, y_train) # fit the model\n",
        "    global y_pred\n",
        "    y_pred = logreg.predict(X_test) # predict on test data\n",
        "    logit_roc_auc = roc_auc_score(y_test, logreg.predict(X_test)) # ROC AUC score\n",
        "    print(classification_report(y_test, y_pred))\n",
        "    print(\"The area under the curve is: %0.2f\"%logit_roc_auc) # AUC curve"
      ],
      "execution_count": null,
      "outputs": []
    },
    {
      "cell_type": "code",
      "metadata": {
        "colab": {
          "base_uri": "https://localhost:8080/"
        },
        "id": "wAWyH-cBoYow",
        "outputId": "def64583-f549-4ed9-b5e6-0f06e317043f"
      },
      "source": [
        "run_model_bweights(X_train,X_test,y_train,y_test)"
      ],
      "execution_count": null,
      "outputs": [
        {
          "output_type": "stream",
          "name": "stdout",
          "text": [
            "              precision    recall  f1-score   support\n",
            "\n",
            "         0.0       0.96      0.75      0.84       513\n",
            "         1.0       0.27      0.78      0.40        63\n",
            "\n",
            "    accuracy                           0.75       576\n",
            "   macro avg       0.62      0.76      0.62       576\n",
            "weighted avg       0.89      0.75      0.79       576\n",
            "\n",
            "The area under the curve is: 0.76\n"
          ]
        }
      ]
    },
    {
      "cell_type": "code",
      "metadata": {
        "id": "eHQ5X6-Dobc6"
      },
      "source": [
        "# class imbalance method 2 : class_weight = {0:90, 1:10}\n",
        "def run_model_aweights(X_train,X_test,y_train,y_test,w):\n",
        "\n",
        "    global logreg\n",
        "    logreg = LogisticRegression(random_state = 13,class_weight=w) # define class_weight parameter\n",
        "    logreg.fit(X_train, y_train) # fit the model\n",
        "    global y_pred\n",
        "    y_pred = logreg.predict(X_test) # predict on test data\n",
        "    logit_roc_auc = roc_auc_score(y_test, logreg.predict(X_test))  # ROC AUC score\n",
        "    print(classification_report(y_test, y_pred))\n",
        "    print(\"The area under the curve is: %0.2f\"%logit_roc_auc)  # AUC curve"
      ],
      "execution_count": null,
      "outputs": []
    },
    {
      "cell_type": "code",
      "source": [
        "df['churn'].value_counts(normalize=True)"
      ],
      "metadata": {
        "colab": {
          "base_uri": "https://localhost:8080/"
        },
        "id": "mMdQU5rWSg93",
        "outputId": "e4488c4f-dcf9-454a-e4bb-cffdce977c03"
      },
      "execution_count": null,
      "outputs": [
        {
          "output_type": "execute_result",
          "data": {
            "text/plain": [
              "0.0    0.868092\n",
              "1.0    0.131908\n",
              "Name: churn, dtype: float64"
            ]
          },
          "metadata": {},
          "execution_count": 83
        }
      ]
    },
    {
      "cell_type": "code",
      "metadata": {
        "colab": {
          "base_uri": "https://localhost:8080/"
        },
        "id": "XCU6OwiNxabC",
        "outputId": "41b506fb-2927-4b16-d5ca-4f94fcd036e0"
      },
      "source": [
        "run_model_aweights(X_train,X_test,y_train,y_test, {0:90, 1:10})"
      ],
      "execution_count": null,
      "outputs": [
        {
          "output_type": "stream",
          "name": "stdout",
          "text": [
            "              precision    recall  f1-score   support\n",
            "\n",
            "         0.0       0.89      1.00      0.94       513\n",
            "         1.0       1.00      0.02      0.03        63\n",
            "\n",
            "    accuracy                           0.89       576\n",
            "   macro avg       0.95      0.51      0.49       576\n",
            "weighted avg       0.90      0.89      0.84       576\n",
            "\n",
            "The area under the curve is: 0.51\n"
          ]
        }
      ]
    },
    {
      "cell_type": "code",
      "source": [
        "run_model_aweights(X_train,X_test,y_train,y_test, {0:85, 1:15})"
      ],
      "metadata": {
        "colab": {
          "base_uri": "https://localhost:8080/"
        },
        "id": "dzqaLRBUSnzp",
        "outputId": "82241562-3498-4cc8-b786-de6dc89cfb2e"
      },
      "execution_count": null,
      "outputs": [
        {
          "output_type": "stream",
          "name": "stdout",
          "text": [
            "              precision    recall  f1-score   support\n",
            "\n",
            "         0.0       0.89      1.00      0.94       513\n",
            "         1.0       1.00      0.02      0.03        63\n",
            "\n",
            "    accuracy                           0.89       576\n",
            "   macro avg       0.95      0.51      0.49       576\n",
            "weighted avg       0.90      0.89      0.84       576\n",
            "\n",
            "The area under the curve is: 0.51\n"
          ]
        }
      ]
    },
    {
      "cell_type": "code",
      "metadata": {
        "id": "PoF1mh1xopI9"
      },
      "source": [
        "# class imbalance method 3: resample\n",
        "def adjust_imbalance (X_train,y_train,class_col):\n",
        "  from sklearn.utils import resample\n",
        "  import pandas as pd\n",
        "  X = pd.concat([X_train, y_train], axis=1)\n",
        "\n",
        "  # separate the 2 classes\n",
        "  class0 = X[X[class_col]==0]\n",
        "  class1 = X[X[class_col]==1]\n",
        "\n",
        "  # Case 1 - bootstraps from the minority class\n",
        "  if len(class1)<len(class0):\n",
        "    resampled = resample(class1,\n",
        "                              replace=True,\n",
        "                              n_samples=len(class0),\n",
        "                              random_state=10)\n",
        "    resampled_df = pd.concat([resampled, class0])\n",
        "\n",
        "  # Case 1 - ressamples from the majority class\n",
        "  else:\n",
        "    resampled = resample(class1,\n",
        "                              replace=False,\n",
        "                              n_samples=len(class0),\n",
        "                              random_state=10)\n",
        "    resampled_df = pd.concat([resampled, class0])\n",
        "\n",
        "  return resampled_df"
      ],
      "execution_count": null,
      "outputs": []
    },
    {
      "cell_type": "code",
      "metadata": {
        "id": "ztC2PFvPsE70"
      },
      "source": [
        "resampled_df = adjust_imbalance (X_train,y_train,class_col = 'churn')"
      ],
      "execution_count": null,
      "outputs": []
    },
    {
      "cell_type": "code",
      "metadata": {
        "colab": {
          "base_uri": "https://localhost:8080/"
        },
        "id": "fTWnG5RBqf7f",
        "outputId": "4a84116e-1cfc-439c-8fda-e9f2f7e5a4de"
      },
      "source": [
        "prepare_model(resampled_df,class_col = 'churn')\n",
        "run_model(X_train,X_test,y_train,y_test)"
      ],
      "execution_count": null,
      "outputs": [
        {
          "output_type": "stream",
          "name": "stdout",
          "text": [
            "              precision    recall  f1-score   support\n",
            "\n",
            "         0.0       0.67      0.75      0.71       339\n",
            "         1.0       0.73      0.65      0.69       353\n",
            "\n",
            "    accuracy                           0.70       692\n",
            "   macro avg       0.70      0.70      0.70       692\n",
            "weighted avg       0.70      0.70      0.70       692\n",
            "\n",
            "The area under the curve is: 0.70\n"
          ]
        }
      ]
    },
    {
      "cell_type": "code",
      "source": [
        "from sklearn.model_selection import train_test_split\n",
        "import numpy as np\n",
        "from imblearn.over_sampling import SMOTE"
      ],
      "metadata": {
        "id": "N8ZcyynkndK5"
      },
      "execution_count": null,
      "outputs": []
    },
    {
      "cell_type": "code",
      "metadata": {
        "id": "zy5_fe3xrt_k"
      },
      "source": [
        "# class imbalance method 4:\n",
        "#Synthetic Minority Oversampling Technique. Generates new instances from existing minority cases that you supply as input.\n",
        "\n",
        "\n",
        "def prepare_model_smote(df,class_col):\n",
        "  cols=df.select_dtypes(include=np.number).columns.tolist()\n",
        "  X=df[cols]\n",
        "  X = X[X.columns.difference([class_col])]\n",
        "  #X = X[X.columns.difference(cols_to_exclude)]\n",
        "  y = df[class_col]\n",
        "  global X_train, X_test, y_train, y_test\n",
        "  X_train, X_test, y_train, y_test = train_test_split(X, y, test_size=0.3, random_state=0)\n",
        "  sm = SMOTE(random_state=0, sampling_strategy=1.0)\n",
        "  X_train, y_train = sm.fit_resample(X_train, y_train)"
      ],
      "execution_count": null,
      "outputs": []
    },
    {
      "cell_type": "code",
      "metadata": {
        "colab": {
          "base_uri": "https://localhost:8080/"
        },
        "id": "b2N_k-aCs8ck",
        "outputId": "d605dc97-6ed2-4ad9-826d-ccea52d2968b"
      },
      "source": [
        "prepare_model_smote(df,class_col = 'churn')\n",
        "run_model(X_train,X_test,y_train,y_test)"
      ],
      "execution_count": null,
      "outputs": [
        {
          "output_type": "stream",
          "name": "stdout",
          "text": [
            "              precision    recall  f1-score   support\n",
            "\n",
            "         0.0       0.96      0.73      0.83       513\n",
            "         1.0       0.26      0.78      0.39        63\n",
            "\n",
            "    accuracy                           0.73       576\n",
            "   macro avg       0.61      0.75      0.61       576\n",
            "weighted avg       0.89      0.73      0.78       576\n",
            "\n",
            "The area under the curve is: 0.75\n"
          ]
        }
      ]
    },
    {
      "cell_type": "markdown",
      "metadata": {
        "id": "bjYFSADavPGM"
      },
      "source": [
        "**Predictions**"
      ]
    },
    {
      "cell_type": "code",
      "metadata": {
        "colab": {
          "base_uri": "https://localhost:8080/"
        },
        "id": "xt-pw6PXvRif",
        "outputId": "c2f034df-ab9a-47da-a1d1-a9316980ee8b"
      },
      "source": [
        "run_model(X_train,X_test,y_train,y_test)"
      ],
      "execution_count": null,
      "outputs": [
        {
          "output_type": "stream",
          "name": "stdout",
          "text": [
            "              precision    recall  f1-score   support\n",
            "\n",
            "         0.0       0.96      0.73      0.83       513\n",
            "         1.0       0.26      0.78      0.39        63\n",
            "\n",
            "    accuracy                           0.73       576\n",
            "   macro avg       0.61      0.75      0.61       576\n",
            "weighted avg       0.89      0.73      0.78       576\n",
            "\n",
            "The area under the curve is: 0.75\n"
          ]
        }
      ]
    },
    {
      "cell_type": "markdown",
      "source": [
        "In this problem we focus on recall, to reduce FN, that is the customer will Churn but model predicted Customer will not churn, So model fails to identify the customer. To get higher Recall value the FN should be lower."
      ],
      "metadata": {
        "id": "9iM-TOkb7Ron"
      }
    },
    {
      "cell_type": "markdown",
      "metadata": {
        "id": "pji47n_Wneoi"
      },
      "source": [
        "# **Feature selection**"
      ]
    },
    {
      "cell_type": "code",
      "source": [
        "from sklearn.feature_selection import VarianceThreshold\n",
        "import numpy as np\n",
        "from sklearn import preprocessing"
      ],
      "metadata": {
        "id": "CQCr3h0s9gBu"
      },
      "execution_count": null,
      "outputs": []
    },
    {
      "cell_type": "code",
      "source": [
        "df = data.copy()\n",
        "encode_categories(df, cat_cols)"
      ],
      "metadata": {
        "colab": {
          "base_uri": "https://localhost:8080/"
        },
        "id": "sYv0jbTNYFo1",
        "outputId": "3ab4ca83-53f8-4650-fd20-8f7df0b76fee"
      },
      "execution_count": null,
      "outputs": [
        {
          "output_type": "stream",
          "name": "stdout",
          "text": [
            "The encoded values for gender are:\n",
            "[ 0. nan  1.]\n",
            "The encoded values for multi_screen are:\n",
            "[0. 1.]\n",
            "The encoded values for mail_subscribed are:\n",
            "[0. 1.]\n"
          ]
        }
      ]
    },
    {
      "cell_type": "code",
      "metadata": {
        "id": "p0fTuh_cniAM"
      },
      "source": [
        "class_col = 'churn'\n",
        "cols_to_exclude=['customer_id','phone_no', 'year']\n",
        "\n",
        "# function for feature selection\n",
        "def var_threshold_selection(df,cols_to_exclude,class_col,threshold):\n",
        "\n",
        "\n",
        "  cols=df.select_dtypes(include=np.number).columns.tolist() #finding all the numerical columns from the dataframe\n",
        "  X=df[cols] #creating a dataframe only with the numerical columns\n",
        "  X = X[X.columns.difference(cols_to_exclude)] #columns to exclude\n",
        "  X = X[X.columns.difference([class_col])]\n",
        "  ## Scaling variables\n",
        "  scaler = preprocessing.StandardScaler().fit(X)\n",
        "  X_scaled = scaler.transform(X)\n",
        "  var_thr = VarianceThreshold(threshold = threshold) #Removing both constant and quasi-constant\n",
        "  var_thr.fit(X_scaled)\n",
        "  var_thr.get_support()\n",
        "\n",
        "  global selected_cols\n",
        "  selected_cols = X.columns[var_thr.get_support()]\n",
        "\n",
        "  print(\"The selected features are: \")\n",
        "  print(list(selected_cols))"
      ],
      "execution_count": null,
      "outputs": []
    },
    {
      "cell_type": "code",
      "metadata": {
        "colab": {
          "base_uri": "https://localhost:8080/"
        },
        "id": "IbeZqJripT9a",
        "outputId": "53e9b9f1-ec9a-46d3-f150-178df2c4bc16"
      },
      "source": [
        "var_threshold_selection(df,cols_to_exclude=['customer_id','phone_no', 'year'],class_col = 'churn', threshold=1)"
      ],
      "execution_count": null,
      "outputs": [
        {
          "output_type": "stream",
          "name": "stdout",
          "text": [
            "The selected features are: \n",
            "['age', 'customer_support_calls', 'mail_subscribed_code', 'minimum_daily_mins', 'multi_screen_code']\n"
          ]
        }
      ]
    },
    {
      "cell_type": "code",
      "source": [
        "def prepare_model(df,class_col, cols_to_exclude):\n",
        "  ##Selecting only the numerical columns and excluding the columns we specified in the function\n",
        "  cols=df.select_dtypes(include=np.number).columns.tolist()\n",
        "  X=df[cols]\n",
        "  X = X[X.columns.difference([class_col])]\n",
        "  X = X[X.columns.difference(cols_to_exclude)]\n",
        "  ##Selecting y as a column\n",
        "  y = df[class_col]\n",
        "  global X_train, X_test, y_train, y_test #This allow us to do call these variables outside this function\n",
        "  X_train, X_test, y_train, y_test = train_test_split(X, y, test_size=0.3, random_state=0) # perform train test split"
      ],
      "metadata": {
        "id": "DyOkHWYfXGj_"
      },
      "execution_count": null,
      "outputs": []
    },
    {
      "cell_type": "code",
      "metadata": {
        "colab": {
          "base_uri": "https://localhost:8080/"
        },
        "id": "I8mH7nWBrSiC",
        "outputId": "3e5bbd3f-e179-4c77-c3e1-6bddafa14bd1"
      },
      "source": [
        "prepare_model(resampled_df,class_col = 'churn', cols_to_exclude=['customer_id','phone_no', 'year',\n",
        "                                                                'gender', 'age',\n",
        "                                                                'no_of_days_subscribed', 'multi_screen', 'mail_subscribed', 'minimum_daily_mins',\n",
        "                                                                'weekly_max_night_mins', 'videos_watched',\n",
        "                                                                'customer_support_calls', 'churn', 'gender_code', 'multi_screen_code',\n",
        "                                                                'mail_subscribed_code'])\n",
        "run_model(X_train,X_test,y_train,y_test)"
      ],
      "execution_count": null,
      "outputs": [
        {
          "output_type": "stream",
          "name": "stdout",
          "text": [
            "              precision    recall  f1-score   support\n",
            "\n",
            "         0.0       0.57      0.62      0.59       339\n",
            "         1.0       0.60      0.55      0.57       353\n",
            "\n",
            "    accuracy                           0.58       692\n",
            "   macro avg       0.58      0.58      0.58       692\n",
            "weighted avg       0.59      0.58      0.58       692\n",
            "\n",
            "The area under the curve is: 0.58\n"
          ]
        }
      ]
    },
    {
      "cell_type": "code",
      "source": [
        "# with resample df and variance threshold= 1 selected feature in prepare model\n",
        "# The selected features are:\n",
        "# ['age', 'customer_support_calls', 'mail_subscribed_code', 'minimum_daily_mins', 'multi_screen_code']\n",
        "\n",
        "prepare_model(resampled_df,class_col = 'churn', cols_to_exclude=['customer_id','phone_no', 'year',\n",
        "                                                                'gender',\n",
        "                                                                'no_of_days_subscribed', 'multi_screen', 'mail_subscribed', 'weekly_mins_watched', 'maximum_daily_mins',\n",
        "                                                                'weekly_max_night_mins', 'videos_watched',  'churn', 'gender_code'\n",
        "                                                                ])\n",
        "run_model(X_train,X_test,y_train,y_test)"
      ],
      "metadata": {
        "colab": {
          "base_uri": "https://localhost:8080/"
        },
        "id": "oDEZPOqPXQgI",
        "outputId": "6908efb6-c33a-449a-c9e6-1489dfd5f090"
      },
      "execution_count": null,
      "outputs": [
        {
          "output_type": "stream",
          "name": "stdout",
          "text": [
            "              precision    recall  f1-score   support\n",
            "\n",
            "         0.0       0.66      0.81      0.73       339\n",
            "         1.0       0.76      0.61      0.68       353\n",
            "\n",
            "    accuracy                           0.70       692\n",
            "   macro avg       0.71      0.71      0.70       692\n",
            "weighted avg       0.71      0.70      0.70       692\n",
            "\n",
            "The area under the curve is: 0.71\n"
          ]
        }
      ]
    },
    {
      "cell_type": "code",
      "source": [
        "from sklearn.feature_selection import RFE"
      ],
      "metadata": {
        "id": "NfiHEf7l9iz2"
      },
      "execution_count": null,
      "outputs": []
    },
    {
      "cell_type": "markdown",
      "source": [
        "## RFE for feature selection"
      ],
      "metadata": {
        "id": "Ynn9B3L6-biY"
      }
    },
    {
      "cell_type": "code",
      "metadata": {
        "id": "TkYvDGmHqJjc"
      },
      "source": [
        "# RFE for feature selection\n",
        "def rfe_selection(df,cols_to_exclude,class_col,model):\n",
        "\n",
        "\n",
        "  cols=df.select_dtypes(include=np.number).columns.tolist() #finding all the numerical columns from the dataframe\n",
        "  X=df[cols] #creating a dataframe only with the numerical columns\n",
        "  X = X[X.columns.difference(cols_to_exclude)] #columns to exclude\n",
        "  X = X[X.columns.difference([class_col])]\n",
        "  y = df[class_col]\n",
        "\n",
        "  rfe = RFE(model)\n",
        "  rfe = rfe.fit(X, y) # fit the model\n",
        "  global selected_cols\n",
        "  selected_cols = X.columns[rfe.support_]\n",
        "\n",
        "  print(\"The selected features are: \")\n",
        "  print(list(selected_cols))\n"
      ],
      "execution_count": null,
      "outputs": []
    },
    {
      "cell_type": "code",
      "metadata": {
        "colab": {
          "base_uri": "https://localhost:8080/"
        },
        "id": "qzlOOb4Ise39",
        "outputId": "532cbf8f-38c7-4636-e911-fa689f073065"
      },
      "source": [
        "rfe_selection(df,class_col = 'churn',cols_to_exclude=['customer_id','phone_no', 'year'],model=logreg)"
      ],
      "execution_count": null,
      "outputs": [
        {
          "output_type": "stream",
          "name": "stdout",
          "text": [
            "The selected features are: \n",
            "['customer_support_calls', 'gender_code', 'mail_subscribed_code', 'maximum_days_inactive', 'minimum_daily_mins', 'multi_screen_code']\n"
          ]
        }
      ]
    },
    {
      "cell_type": "code",
      "metadata": {
        "colab": {
          "base_uri": "https://localhost:8080/"
        },
        "id": "IcIDpAXlrzvA",
        "outputId": "09255f28-a8af-43cd-fdd6-a30345c4e331"
      },
      "source": [
        "prepare_model(resampled_df,class_col = 'churn',cols_to_exclude=['customer_id','phone_no', 'year',\n",
        "                                                                'gender', 'age',\n",
        "                                                                'no_of_days_subscribed', 'multi_screen', 'mail_subscribed',\n",
        "                                                                'weekly_max_night_mins',\n",
        "                                                                 'gender_code', 'multi_screen_code',\n",
        "                                                                'mail_subscribed_code'])\n",
        "run_model(X_train,X_test,y_train,y_test)"
      ],
      "execution_count": null,
      "outputs": [
        {
          "output_type": "stream",
          "name": "stdout",
          "text": [
            "              precision    recall  f1-score   support\n",
            "\n",
            "         0.0       0.69      0.71      0.70       339\n",
            "         1.0       0.71      0.69      0.70       353\n",
            "\n",
            "    accuracy                           0.70       692\n",
            "   macro avg       0.70      0.70      0.70       692\n",
            "weighted avg       0.70      0.70      0.70       692\n",
            "\n",
            "The area under the curve is: 0.70\n"
          ]
        }
      ]
    },
    {
      "cell_type": "markdown",
      "source": [
        "RFE method is good for Feature selection than VarianceThreshold Selection"
      ],
      "metadata": {
        "id": "fQklwZMn9znO"
      }
    },
    {
      "cell_type": "markdown",
      "source": [
        "## Weight of Evidence & Information Value"
      ],
      "metadata": {
        "id": "8pXETjjlZYxH"
      }
    },
    {
      "cell_type": "markdown",
      "source": [
        "Information value (IV) is a commonly used metric for evaluating the predictive power of a feature. It measures how well the feature separates the positive and negative classes. A higher IV indicates a stronger predictive power."
      ],
      "metadata": {
        "id": "_Q3AtzvmbG7d"
      }
    },
    {
      "cell_type": "code",
      "metadata": {
        "id": "O5Rp9Ozitzpc",
        "colab": {
          "base_uri": "https://localhost:8080/"
        },
        "outputId": "b73df840-3463-4a45-ace0-9a166a2f7259"
      },
      "source": [
        "df = data.copy()\n",
        "encode_categories(df, cat_cols)\n",
        "drop_cols = ['year', 'customer_id', 'phone_no']+cat_cols\n",
        "df = df.drop(drop_cols, axis=1)\n",
        "df.shape\n"
      ],
      "execution_count": null,
      "outputs": [
        {
          "output_type": "stream",
          "name": "stdout",
          "text": [
            "The encoded values for gender are:\n",
            "[ 0. nan  1.]\n",
            "The encoded values for multi_screen are:\n",
            "[0. 1.]\n",
            "The encoded values for mail_subscribed are:\n",
            "[0. 1.]\n"
          ]
        },
        {
          "output_type": "execute_result",
          "data": {
            "text/plain": [
              "(2000, 13)"
            ]
          },
          "metadata": {},
          "execution_count": 114
        }
      ]
    },
    {
      "cell_type": "code",
      "source": [
        "df.head()"
      ],
      "metadata": {
        "colab": {
          "base_uri": "https://localhost:8080/",
          "height": 270
        },
        "id": "y7uITq0oZy3R",
        "outputId": "1dc38d75-3c85-4920-8170-8c0077d73cf4"
      },
      "execution_count": null,
      "outputs": [
        {
          "output_type": "execute_result",
          "data": {
            "text/plain": [
              "   age  no_of_days_subscribed  weekly_mins_watched  minimum_daily_mins  \\\n",
              "0   36                     62               148.35                12.2   \n",
              "1   39                    149               294.45                 7.7   \n",
              "2   65                    126                87.30                11.9   \n",
              "3   24                    131               321.30                 9.5   \n",
              "4   40                    191               243.00                10.9   \n",
              "\n",
              "   maximum_daily_mins  weekly_max_night_mins  videos_watched  \\\n",
              "0               16.81                     82               1   \n",
              "1               33.37                     87               3   \n",
              "2                9.89                     91               1   \n",
              "3               36.41                    102               4   \n",
              "4               27.54                     83               7   \n",
              "\n",
              "   maximum_days_inactive  customer_support_calls  churn  gender_code  \\\n",
              "0                    4.0                       1    0.0          0.0   \n",
              "1                    3.0                       2    0.0          0.0   \n",
              "2                    4.0                       5    1.0          0.0   \n",
              "3                    3.0                       3    0.0          0.0   \n",
              "4                    3.0                       1    0.0          0.0   \n",
              "\n",
              "   multi_screen_code  mail_subscribed_code  \n",
              "0                0.0                   0.0  \n",
              "1                0.0                   0.0  \n",
              "2                0.0                   0.0  \n",
              "3                0.0                   1.0  \n",
              "4                0.0                   0.0  "
            ],
            "text/html": [
              "\n",
              "  <div id=\"df-350e3021-181a-4269-87d1-e80a6ac027d2\">\n",
              "    <div class=\"colab-df-container\">\n",
              "      <div>\n",
              "<style scoped>\n",
              "    .dataframe tbody tr th:only-of-type {\n",
              "        vertical-align: middle;\n",
              "    }\n",
              "\n",
              "    .dataframe tbody tr th {\n",
              "        vertical-align: top;\n",
              "    }\n",
              "\n",
              "    .dataframe thead th {\n",
              "        text-align: right;\n",
              "    }\n",
              "</style>\n",
              "<table border=\"1\" class=\"dataframe\">\n",
              "  <thead>\n",
              "    <tr style=\"text-align: right;\">\n",
              "      <th></th>\n",
              "      <th>age</th>\n",
              "      <th>no_of_days_subscribed</th>\n",
              "      <th>weekly_mins_watched</th>\n",
              "      <th>minimum_daily_mins</th>\n",
              "      <th>maximum_daily_mins</th>\n",
              "      <th>weekly_max_night_mins</th>\n",
              "      <th>videos_watched</th>\n",
              "      <th>maximum_days_inactive</th>\n",
              "      <th>customer_support_calls</th>\n",
              "      <th>churn</th>\n",
              "      <th>gender_code</th>\n",
              "      <th>multi_screen_code</th>\n",
              "      <th>mail_subscribed_code</th>\n",
              "    </tr>\n",
              "  </thead>\n",
              "  <tbody>\n",
              "    <tr>\n",
              "      <th>0</th>\n",
              "      <td>36</td>\n",
              "      <td>62</td>\n",
              "      <td>148.35</td>\n",
              "      <td>12.2</td>\n",
              "      <td>16.81</td>\n",
              "      <td>82</td>\n",
              "      <td>1</td>\n",
              "      <td>4.0</td>\n",
              "      <td>1</td>\n",
              "      <td>0.0</td>\n",
              "      <td>0.0</td>\n",
              "      <td>0.0</td>\n",
              "      <td>0.0</td>\n",
              "    </tr>\n",
              "    <tr>\n",
              "      <th>1</th>\n",
              "      <td>39</td>\n",
              "      <td>149</td>\n",
              "      <td>294.45</td>\n",
              "      <td>7.7</td>\n",
              "      <td>33.37</td>\n",
              "      <td>87</td>\n",
              "      <td>3</td>\n",
              "      <td>3.0</td>\n",
              "      <td>2</td>\n",
              "      <td>0.0</td>\n",
              "      <td>0.0</td>\n",
              "      <td>0.0</td>\n",
              "      <td>0.0</td>\n",
              "    </tr>\n",
              "    <tr>\n",
              "      <th>2</th>\n",
              "      <td>65</td>\n",
              "      <td>126</td>\n",
              "      <td>87.30</td>\n",
              "      <td>11.9</td>\n",
              "      <td>9.89</td>\n",
              "      <td>91</td>\n",
              "      <td>1</td>\n",
              "      <td>4.0</td>\n",
              "      <td>5</td>\n",
              "      <td>1.0</td>\n",
              "      <td>0.0</td>\n",
              "      <td>0.0</td>\n",
              "      <td>0.0</td>\n",
              "    </tr>\n",
              "    <tr>\n",
              "      <th>3</th>\n",
              "      <td>24</td>\n",
              "      <td>131</td>\n",
              "      <td>321.30</td>\n",
              "      <td>9.5</td>\n",
              "      <td>36.41</td>\n",
              "      <td>102</td>\n",
              "      <td>4</td>\n",
              "      <td>3.0</td>\n",
              "      <td>3</td>\n",
              "      <td>0.0</td>\n",
              "      <td>0.0</td>\n",
              "      <td>0.0</td>\n",
              "      <td>1.0</td>\n",
              "    </tr>\n",
              "    <tr>\n",
              "      <th>4</th>\n",
              "      <td>40</td>\n",
              "      <td>191</td>\n",
              "      <td>243.00</td>\n",
              "      <td>10.9</td>\n",
              "      <td>27.54</td>\n",
              "      <td>83</td>\n",
              "      <td>7</td>\n",
              "      <td>3.0</td>\n",
              "      <td>1</td>\n",
              "      <td>0.0</td>\n",
              "      <td>0.0</td>\n",
              "      <td>0.0</td>\n",
              "      <td>0.0</td>\n",
              "    </tr>\n",
              "  </tbody>\n",
              "</table>\n",
              "</div>\n",
              "      <button class=\"colab-df-convert\" onclick=\"convertToInteractive('df-350e3021-181a-4269-87d1-e80a6ac027d2')\"\n",
              "              title=\"Convert this dataframe to an interactive table.\"\n",
              "              style=\"display:none;\">\n",
              "        \n",
              "  <svg xmlns=\"http://www.w3.org/2000/svg\" height=\"24px\"viewBox=\"0 0 24 24\"\n",
              "       width=\"24px\">\n",
              "    <path d=\"M0 0h24v24H0V0z\" fill=\"none\"/>\n",
              "    <path d=\"M18.56 5.44l.94 2.06.94-2.06 2.06-.94-2.06-.94-.94-2.06-.94 2.06-2.06.94zm-11 1L8.5 8.5l.94-2.06 2.06-.94-2.06-.94L8.5 2.5l-.94 2.06-2.06.94zm10 10l.94 2.06.94-2.06 2.06-.94-2.06-.94-.94-2.06-.94 2.06-2.06.94z\"/><path d=\"M17.41 7.96l-1.37-1.37c-.4-.4-.92-.59-1.43-.59-.52 0-1.04.2-1.43.59L10.3 9.45l-7.72 7.72c-.78.78-.78 2.05 0 2.83L4 21.41c.39.39.9.59 1.41.59.51 0 1.02-.2 1.41-.59l7.78-7.78 2.81-2.81c.8-.78.8-2.07 0-2.86zM5.41 20L4 18.59l7.72-7.72 1.47 1.35L5.41 20z\"/>\n",
              "  </svg>\n",
              "      </button>\n",
              "      \n",
              "  <style>\n",
              "    .colab-df-container {\n",
              "      display:flex;\n",
              "      flex-wrap:wrap;\n",
              "      gap: 12px;\n",
              "    }\n",
              "\n",
              "    .colab-df-convert {\n",
              "      background-color: #E8F0FE;\n",
              "      border: none;\n",
              "      border-radius: 50%;\n",
              "      cursor: pointer;\n",
              "      display: none;\n",
              "      fill: #1967D2;\n",
              "      height: 32px;\n",
              "      padding: 0 0 0 0;\n",
              "      width: 32px;\n",
              "    }\n",
              "\n",
              "    .colab-df-convert:hover {\n",
              "      background-color: #E2EBFA;\n",
              "      box-shadow: 0px 1px 2px rgba(60, 64, 67, 0.3), 0px 1px 3px 1px rgba(60, 64, 67, 0.15);\n",
              "      fill: #174EA6;\n",
              "    }\n",
              "\n",
              "    [theme=dark] .colab-df-convert {\n",
              "      background-color: #3B4455;\n",
              "      fill: #D2E3FC;\n",
              "    }\n",
              "\n",
              "    [theme=dark] .colab-df-convert:hover {\n",
              "      background-color: #434B5C;\n",
              "      box-shadow: 0px 1px 3px 1px rgba(0, 0, 0, 0.15);\n",
              "      filter: drop-shadow(0px 1px 2px rgba(0, 0, 0, 0.3));\n",
              "      fill: #FFFFFF;\n",
              "    }\n",
              "  </style>\n",
              "\n",
              "      <script>\n",
              "        const buttonEl =\n",
              "          document.querySelector('#df-350e3021-181a-4269-87d1-e80a6ac027d2 button.colab-df-convert');\n",
              "        buttonEl.style.display =\n",
              "          google.colab.kernel.accessAllowed ? 'block' : 'none';\n",
              "\n",
              "        async function convertToInteractive(key) {\n",
              "          const element = document.querySelector('#df-350e3021-181a-4269-87d1-e80a6ac027d2');\n",
              "          const dataTable =\n",
              "            await google.colab.kernel.invokeFunction('convertToInteractive',\n",
              "                                                     [key], {});\n",
              "          if (!dataTable) return;\n",
              "\n",
              "          const docLinkHtml = 'Like what you see? Visit the ' +\n",
              "            '<a target=\"_blank\" href=https://colab.research.google.com/notebooks/data_table.ipynb>data table notebook</a>'\n",
              "            + ' to learn more about interactive tables.';\n",
              "          element.innerHTML = '';\n",
              "          dataTable['output_type'] = 'display_data';\n",
              "          await google.colab.output.renderOutput(dataTable, element);\n",
              "          const docLink = document.createElement('div');\n",
              "          docLink.innerHTML = docLinkHtml;\n",
              "          element.appendChild(docLink);\n",
              "        }\n",
              "      </script>\n",
              "    </div>\n",
              "  </div>\n",
              "  "
            ]
          },
          "metadata": {},
          "execution_count": 115
        }
      ]
    },
    {
      "cell_type": "code",
      "source": [
        "# !pip install woe\n",
        "# !pip install category_encoders\n",
        "# !pip install woe-scoring"
      ],
      "metadata": {
        "colab": {
          "base_uri": "https://localhost:8080/"
        },
        "id": "2a3z2q_1bMWi",
        "outputId": "e186b730-9065-42ad-e905-c5bf025ba8b1"
      },
      "execution_count": null,
      "outputs": [
        {
          "output_type": "stream",
          "name": "stdout",
          "text": [
            "Looking in indexes: https://pypi.org/simple, https://us-python.pkg.dev/colab-wheels/public/simple/\n",
            "Collecting woe-scoring\n",
            "  Downloading woe_scoring-0.10.8-py3-none-any.whl (20 kB)\n",
            "Requirement already satisfied: joblib>=1.1.0 in /usr/local/lib/python3.10/dist-packages (from woe-scoring) (1.2.0)\n",
            "Requirement already satisfied: lxml>=4.8.0 in /usr/local/lib/python3.10/dist-packages (from woe-scoring) (4.9.2)\n",
            "Requirement already satisfied: numpy>=1.19.5 in /usr/local/lib/python3.10/dist-packages (from woe-scoring) (1.22.4)\n",
            "Requirement already satisfied: pandas>=1.2.2 in /usr/local/lib/python3.10/dist-packages (from woe-scoring) (1.5.3)\n",
            "Requirement already satisfied: scikit-learn>=0.24.1 in /usr/local/lib/python3.10/dist-packages (from woe-scoring) (1.2.2)\n",
            "Requirement already satisfied: scipy>=1.6.1 in /usr/local/lib/python3.10/dist-packages (from woe-scoring) (1.10.1)\n",
            "Requirement already satisfied: statsmodels>=0.12.2 in /usr/local/lib/python3.10/dist-packages (from woe-scoring) (0.13.5)\n",
            "Requirement already satisfied: python-dateutil>=2.8.1 in /usr/local/lib/python3.10/dist-packages (from pandas>=1.2.2->woe-scoring) (2.8.2)\n",
            "Requirement already satisfied: pytz>=2020.1 in /usr/local/lib/python3.10/dist-packages (from pandas>=1.2.2->woe-scoring) (2022.7.1)\n",
            "Requirement already satisfied: threadpoolctl>=2.0.0 in /usr/local/lib/python3.10/dist-packages (from scikit-learn>=0.24.1->woe-scoring) (3.1.0)\n",
            "Requirement already satisfied: patsy>=0.5.2 in /usr/local/lib/python3.10/dist-packages (from statsmodels>=0.12.2->woe-scoring) (0.5.3)\n",
            "Requirement already satisfied: packaging>=21.3 in /usr/local/lib/python3.10/dist-packages (from statsmodels>=0.12.2->woe-scoring) (23.1)\n",
            "Requirement already satisfied: six in /usr/local/lib/python3.10/dist-packages (from patsy>=0.5.2->statsmodels>=0.12.2->woe-scoring) (1.16.0)\n",
            "Installing collected packages: woe-scoring\n",
            "Successfully installed woe-scoring-0.10.8\n"
          ]
        }
      ]
    },
    {
      "cell_type": "code",
      "source": [
        "# import woe\n",
        "import category_encoders.woe as ce\n",
        "import pandas as pd\n",
        "from woe_scoring import WOETransformer\n",
        "from sklearn.model_selection import train_test_split\n",
        "from sklearn.linear_model import LogisticRegression"
      ],
      "metadata": {
        "id": "YkR2bUJ5Z1eu"
      },
      "execution_count": null,
      "outputs": []
    },
    {
      "cell_type": "code",
      "source": [
        "df = data.copy()\n",
        "df = df.dropna()"
      ],
      "metadata": {
        "id": "sUAD1dcs4DYs"
      },
      "execution_count": null,
      "outputs": []
    },
    {
      "cell_type": "code",
      "source": [
        "feature_cols =  ['gender', 'multi_screen', 'mail_subscribed']\n",
        "target_col = 'churn'\n",
        "y = df[target_col]\n",
        "y.unique()"
      ],
      "metadata": {
        "colab": {
          "base_uri": "https://localhost:8080/"
        },
        "id": "remW7tfefIaP",
        "outputId": "d81e11e1-c9c7-4330-90c4-98b5a5126757"
      },
      "execution_count": null,
      "outputs": [
        {
          "output_type": "execute_result",
          "data": {
            "text/plain": [
              "array([0., 1.])"
            ]
          },
          "metadata": {},
          "execution_count": 169
        }
      ]
    },
    {
      "cell_type": "code",
      "source": [
        "ce.WOEEncoder(feature_cols)"
      ],
      "metadata": {
        "colab": {
          "base_uri": "https://localhost:8080/",
          "height": 75
        },
        "id": "5FAocXAB1MDh",
        "outputId": "73c7b39b-abbf-42dd-eb0f-2281fd3e5fbb"
      },
      "execution_count": null,
      "outputs": [
        {
          "output_type": "execute_result",
          "data": {
            "text/plain": [
              "WOEEncoder(verbose=['gender', 'multi_screen', 'mail_subscribed'])"
            ],
            "text/html": [
              "<style>#sk-container-id-5 {color: black;background-color: white;}#sk-container-id-5 pre{padding: 0;}#sk-container-id-5 div.sk-toggleable {background-color: white;}#sk-container-id-5 label.sk-toggleable__label {cursor: pointer;display: block;width: 100%;margin-bottom: 0;padding: 0.3em;box-sizing: border-box;text-align: center;}#sk-container-id-5 label.sk-toggleable__label-arrow:before {content: \"▸\";float: left;margin-right: 0.25em;color: #696969;}#sk-container-id-5 label.sk-toggleable__label-arrow:hover:before {color: black;}#sk-container-id-5 div.sk-estimator:hover label.sk-toggleable__label-arrow:before {color: black;}#sk-container-id-5 div.sk-toggleable__content {max-height: 0;max-width: 0;overflow: hidden;text-align: left;background-color: #f0f8ff;}#sk-container-id-5 div.sk-toggleable__content pre {margin: 0.2em;color: black;border-radius: 0.25em;background-color: #f0f8ff;}#sk-container-id-5 input.sk-toggleable__control:checked~div.sk-toggleable__content {max-height: 200px;max-width: 100%;overflow: auto;}#sk-container-id-5 input.sk-toggleable__control:checked~label.sk-toggleable__label-arrow:before {content: \"▾\";}#sk-container-id-5 div.sk-estimator input.sk-toggleable__control:checked~label.sk-toggleable__label {background-color: #d4ebff;}#sk-container-id-5 div.sk-label input.sk-toggleable__control:checked~label.sk-toggleable__label {background-color: #d4ebff;}#sk-container-id-5 input.sk-hidden--visually {border: 0;clip: rect(1px 1px 1px 1px);clip: rect(1px, 1px, 1px, 1px);height: 1px;margin: -1px;overflow: hidden;padding: 0;position: absolute;width: 1px;}#sk-container-id-5 div.sk-estimator {font-family: monospace;background-color: #f0f8ff;border: 1px dotted black;border-radius: 0.25em;box-sizing: border-box;margin-bottom: 0.5em;}#sk-container-id-5 div.sk-estimator:hover {background-color: #d4ebff;}#sk-container-id-5 div.sk-parallel-item::after {content: \"\";width: 100%;border-bottom: 1px solid gray;flex-grow: 1;}#sk-container-id-5 div.sk-label:hover label.sk-toggleable__label {background-color: #d4ebff;}#sk-container-id-5 div.sk-serial::before {content: \"\";position: absolute;border-left: 1px solid gray;box-sizing: border-box;top: 0;bottom: 0;left: 50%;z-index: 0;}#sk-container-id-5 div.sk-serial {display: flex;flex-direction: column;align-items: center;background-color: white;padding-right: 0.2em;padding-left: 0.2em;position: relative;}#sk-container-id-5 div.sk-item {position: relative;z-index: 1;}#sk-container-id-5 div.sk-parallel {display: flex;align-items: stretch;justify-content: center;background-color: white;position: relative;}#sk-container-id-5 div.sk-item::before, #sk-container-id-5 div.sk-parallel-item::before {content: \"\";position: absolute;border-left: 1px solid gray;box-sizing: border-box;top: 0;bottom: 0;left: 50%;z-index: -1;}#sk-container-id-5 div.sk-parallel-item {display: flex;flex-direction: column;z-index: 1;position: relative;background-color: white;}#sk-container-id-5 div.sk-parallel-item:first-child::after {align-self: flex-end;width: 50%;}#sk-container-id-5 div.sk-parallel-item:last-child::after {align-self: flex-start;width: 50%;}#sk-container-id-5 div.sk-parallel-item:only-child::after {width: 0;}#sk-container-id-5 div.sk-dashed-wrapped {border: 1px dashed gray;margin: 0 0.4em 0.5em 0.4em;box-sizing: border-box;padding-bottom: 0.4em;background-color: white;}#sk-container-id-5 div.sk-label label {font-family: monospace;font-weight: bold;display: inline-block;line-height: 1.2em;}#sk-container-id-5 div.sk-label-container {text-align: center;}#sk-container-id-5 div.sk-container {/* jupyter's `normalize.less` sets `[hidden] { display: none; }` but bootstrap.min.css set `[hidden] { display: none !important; }` so we also need the `!important` here to be able to override the default hidden behavior on the sphinx rendered scikit-learn.org. See: https://github.com/scikit-learn/scikit-learn/issues/21755 */display: inline-block !important;position: relative;}#sk-container-id-5 div.sk-text-repr-fallback {display: none;}</style><div id=\"sk-container-id-5\" class=\"sk-top-container\"><div class=\"sk-text-repr-fallback\"><pre>WOEEncoder(verbose=[&#x27;gender&#x27;, &#x27;multi_screen&#x27;, &#x27;mail_subscribed&#x27;])</pre><b>In a Jupyter environment, please rerun this cell to show the HTML representation or trust the notebook. <br />On GitHub, the HTML representation is unable to render, please try loading this page with nbviewer.org.</b></div><div class=\"sk-container\" hidden><div class=\"sk-item\"><div class=\"sk-estimator sk-toggleable\"><input class=\"sk-toggleable__control sk-hidden--visually\" id=\"sk-estimator-id-5\" type=\"checkbox\" checked><label for=\"sk-estimator-id-5\" class=\"sk-toggleable__label sk-toggleable__label-arrow\">WOEEncoder</label><div class=\"sk-toggleable__content\"><pre>WOEEncoder(verbose=[&#x27;gender&#x27;, &#x27;multi_screen&#x27;, &#x27;mail_subscribed&#x27;])</pre></div></div></div></div></div>"
            ]
          },
          "metadata": {},
          "execution_count": 171
        }
      ]
    },
    {
      "cell_type": "code",
      "source": [
        "# Create a WOE encoder\n",
        "encoder = ce.WOEEncoder(cols=feature_cols)\n",
        "\n",
        "# Fit the encoder on the data\n",
        "encoder.fit(df[feature_cols], y)\n",
        "\n",
        "# Transform the data using the encoder\n",
        "df_woe = encoder.transform(df[feature_cols])\n",
        "\n",
        "# Print the WOE and IV for each feature\n",
        "# for col, woe_val, iv_val in zip(df_woe.columns, encoder.woe_, encoder.iv_):\n",
        "#     print(f'Feature: {col}, WOE: {woe_val}, IV: {iv_val}')"
      ],
      "metadata": {
        "id": "XzTZaeBpeVVW"
      },
      "execution_count": null,
      "outputs": []
    },
    {
      "cell_type": "code",
      "source": [
        "df_woe"
      ],
      "metadata": {
        "colab": {
          "base_uri": "https://localhost:8080/",
          "height": 424
        },
        "id": "lbkQiUnC5vM0",
        "outputId": "bda185fb-fee2-488d-c399-c40cb46178b8"
      },
      "execution_count": null,
      "outputs": [
        {
          "output_type": "execute_result",
          "data": {
            "text/plain": [
              "        gender  multi_screen  mail_subscribed\n",
              "0     0.026098     -0.298009         0.125964\n",
              "1     0.026098     -0.298009         0.125964\n",
              "2     0.026098     -0.298009         0.125964\n",
              "3     0.026098     -0.298009        -0.379829\n",
              "4     0.026098     -0.298009         0.125964\n",
              "...        ...           ...              ...\n",
              "1990 -0.023355     -0.298009         0.125964\n",
              "1991 -0.023355      1.484791        -0.379829\n",
              "1992  0.026098     -0.298009        -0.379829\n",
              "1996 -0.023355     -0.298009         0.125964\n",
              "1999 -0.023355     -0.298009         0.125964\n",
              "\n",
              "[1918 rows x 3 columns]"
            ],
            "text/html": [
              "\n",
              "  <div id=\"df-8df14e6d-ea3e-47d6-a4f9-fd31e537706a\">\n",
              "    <div class=\"colab-df-container\">\n",
              "      <div>\n",
              "<style scoped>\n",
              "    .dataframe tbody tr th:only-of-type {\n",
              "        vertical-align: middle;\n",
              "    }\n",
              "\n",
              "    .dataframe tbody tr th {\n",
              "        vertical-align: top;\n",
              "    }\n",
              "\n",
              "    .dataframe thead th {\n",
              "        text-align: right;\n",
              "    }\n",
              "</style>\n",
              "<table border=\"1\" class=\"dataframe\">\n",
              "  <thead>\n",
              "    <tr style=\"text-align: right;\">\n",
              "      <th></th>\n",
              "      <th>gender</th>\n",
              "      <th>multi_screen</th>\n",
              "      <th>mail_subscribed</th>\n",
              "    </tr>\n",
              "  </thead>\n",
              "  <tbody>\n",
              "    <tr>\n",
              "      <th>0</th>\n",
              "      <td>0.026098</td>\n",
              "      <td>-0.298009</td>\n",
              "      <td>0.125964</td>\n",
              "    </tr>\n",
              "    <tr>\n",
              "      <th>1</th>\n",
              "      <td>0.026098</td>\n",
              "      <td>-0.298009</td>\n",
              "      <td>0.125964</td>\n",
              "    </tr>\n",
              "    <tr>\n",
              "      <th>2</th>\n",
              "      <td>0.026098</td>\n",
              "      <td>-0.298009</td>\n",
              "      <td>0.125964</td>\n",
              "    </tr>\n",
              "    <tr>\n",
              "      <th>3</th>\n",
              "      <td>0.026098</td>\n",
              "      <td>-0.298009</td>\n",
              "      <td>-0.379829</td>\n",
              "    </tr>\n",
              "    <tr>\n",
              "      <th>4</th>\n",
              "      <td>0.026098</td>\n",
              "      <td>-0.298009</td>\n",
              "      <td>0.125964</td>\n",
              "    </tr>\n",
              "    <tr>\n",
              "      <th>...</th>\n",
              "      <td>...</td>\n",
              "      <td>...</td>\n",
              "      <td>...</td>\n",
              "    </tr>\n",
              "    <tr>\n",
              "      <th>1990</th>\n",
              "      <td>-0.023355</td>\n",
              "      <td>-0.298009</td>\n",
              "      <td>0.125964</td>\n",
              "    </tr>\n",
              "    <tr>\n",
              "      <th>1991</th>\n",
              "      <td>-0.023355</td>\n",
              "      <td>1.484791</td>\n",
              "      <td>-0.379829</td>\n",
              "    </tr>\n",
              "    <tr>\n",
              "      <th>1992</th>\n",
              "      <td>0.026098</td>\n",
              "      <td>-0.298009</td>\n",
              "      <td>-0.379829</td>\n",
              "    </tr>\n",
              "    <tr>\n",
              "      <th>1996</th>\n",
              "      <td>-0.023355</td>\n",
              "      <td>-0.298009</td>\n",
              "      <td>0.125964</td>\n",
              "    </tr>\n",
              "    <tr>\n",
              "      <th>1999</th>\n",
              "      <td>-0.023355</td>\n",
              "      <td>-0.298009</td>\n",
              "      <td>0.125964</td>\n",
              "    </tr>\n",
              "  </tbody>\n",
              "</table>\n",
              "<p>1918 rows × 3 columns</p>\n",
              "</div>\n",
              "      <button class=\"colab-df-convert\" onclick=\"convertToInteractive('df-8df14e6d-ea3e-47d6-a4f9-fd31e537706a')\"\n",
              "              title=\"Convert this dataframe to an interactive table.\"\n",
              "              style=\"display:none;\">\n",
              "        \n",
              "  <svg xmlns=\"http://www.w3.org/2000/svg\" height=\"24px\"viewBox=\"0 0 24 24\"\n",
              "       width=\"24px\">\n",
              "    <path d=\"M0 0h24v24H0V0z\" fill=\"none\"/>\n",
              "    <path d=\"M18.56 5.44l.94 2.06.94-2.06 2.06-.94-2.06-.94-.94-2.06-.94 2.06-2.06.94zm-11 1L8.5 8.5l.94-2.06 2.06-.94-2.06-.94L8.5 2.5l-.94 2.06-2.06.94zm10 10l.94 2.06.94-2.06 2.06-.94-2.06-.94-.94-2.06-.94 2.06-2.06.94z\"/><path d=\"M17.41 7.96l-1.37-1.37c-.4-.4-.92-.59-1.43-.59-.52 0-1.04.2-1.43.59L10.3 9.45l-7.72 7.72c-.78.78-.78 2.05 0 2.83L4 21.41c.39.39.9.59 1.41.59.51 0 1.02-.2 1.41-.59l7.78-7.78 2.81-2.81c.8-.78.8-2.07 0-2.86zM5.41 20L4 18.59l7.72-7.72 1.47 1.35L5.41 20z\"/>\n",
              "  </svg>\n",
              "      </button>\n",
              "      \n",
              "  <style>\n",
              "    .colab-df-container {\n",
              "      display:flex;\n",
              "      flex-wrap:wrap;\n",
              "      gap: 12px;\n",
              "    }\n",
              "\n",
              "    .colab-df-convert {\n",
              "      background-color: #E8F0FE;\n",
              "      border: none;\n",
              "      border-radius: 50%;\n",
              "      cursor: pointer;\n",
              "      display: none;\n",
              "      fill: #1967D2;\n",
              "      height: 32px;\n",
              "      padding: 0 0 0 0;\n",
              "      width: 32px;\n",
              "    }\n",
              "\n",
              "    .colab-df-convert:hover {\n",
              "      background-color: #E2EBFA;\n",
              "      box-shadow: 0px 1px 2px rgba(60, 64, 67, 0.3), 0px 1px 3px 1px rgba(60, 64, 67, 0.15);\n",
              "      fill: #174EA6;\n",
              "    }\n",
              "\n",
              "    [theme=dark] .colab-df-convert {\n",
              "      background-color: #3B4455;\n",
              "      fill: #D2E3FC;\n",
              "    }\n",
              "\n",
              "    [theme=dark] .colab-df-convert:hover {\n",
              "      background-color: #434B5C;\n",
              "      box-shadow: 0px 1px 3px 1px rgba(0, 0, 0, 0.15);\n",
              "      filter: drop-shadow(0px 1px 2px rgba(0, 0, 0, 0.3));\n",
              "      fill: #FFFFFF;\n",
              "    }\n",
              "  </style>\n",
              "\n",
              "      <script>\n",
              "        const buttonEl =\n",
              "          document.querySelector('#df-8df14e6d-ea3e-47d6-a4f9-fd31e537706a button.colab-df-convert');\n",
              "        buttonEl.style.display =\n",
              "          google.colab.kernel.accessAllowed ? 'block' : 'none';\n",
              "\n",
              "        async function convertToInteractive(key) {\n",
              "          const element = document.querySelector('#df-8df14e6d-ea3e-47d6-a4f9-fd31e537706a');\n",
              "          const dataTable =\n",
              "            await google.colab.kernel.invokeFunction('convertToInteractive',\n",
              "                                                     [key], {});\n",
              "          if (!dataTable) return;\n",
              "\n",
              "          const docLinkHtml = 'Like what you see? Visit the ' +\n",
              "            '<a target=\"_blank\" href=https://colab.research.google.com/notebooks/data_table.ipynb>data table notebook</a>'\n",
              "            + ' to learn more about interactive tables.';\n",
              "          element.innerHTML = '';\n",
              "          dataTable['output_type'] = 'display_data';\n",
              "          await google.colab.output.renderOutput(dataTable, element);\n",
              "          const docLink = document.createElement('div');\n",
              "          docLink.innerHTML = docLinkHtml;\n",
              "          element.appendChild(docLink);\n",
              "        }\n",
              "      </script>\n",
              "    </div>\n",
              "  </div>\n",
              "  "
            ]
          },
          "metadata": {},
          "execution_count": 174
        }
      ]
    },
    {
      "cell_type": "code",
      "source": [
        "df['churn'].value_counts()"
      ],
      "metadata": {
        "colab": {
          "base_uri": "https://localhost:8080/"
        },
        "id": "YyfSSp2dfcYn",
        "outputId": "8de0447a-5a67-472b-ade4-d34cf63966a6"
      },
      "execution_count": null,
      "outputs": [
        {
          "output_type": "execute_result",
          "data": {
            "text/plain": [
              "0.0    1703\n",
              "1.0     262\n",
              "Name: churn, dtype: int64"
            ]
          },
          "metadata": {},
          "execution_count": 138
        }
      ]
    },
    {
      "cell_type": "code",
      "source": [
        "# Create a function to calculate the weight of evidence\n",
        "def woe(col, target):\n",
        "    # Get the unique values of the column\n",
        "    unique_values = col.unique()\n",
        "\n",
        "    # Create a DataFrame to store the results\n",
        "    woe_df = pd.DataFrame()\n",
        "\n",
        "    # Loop over the unique values\n",
        "    for value in unique_values:\n",
        "        # Get the proportion of the target variable that is equal to 1 for each value\n",
        "        proportion_1 = (col == value).sum() / len(col)\n",
        "\n",
        "        # Get the log odds of the target variable being equal to 1 for each value\n",
        "        log_odds = np.log(proportion_1 / (1 - proportion_1))\n",
        "\n",
        "        # Calculate the weight of evidence\n",
        "        woe = log_odds - np.log(proportion_1)\n",
        "\n",
        "        # Add the weight of evidence to the DataFrame\n",
        "        woe_df = woe_df.append({'value': value, 'woe': woe}, ignore_index=True)\n",
        "\n",
        "    return woe_df\n",
        "\n",
        "# Apply the function to each category of the categorical feature\n",
        "woe_df = woe(df['gender'], df['churn'])\n",
        "\n",
        "# Plot the weight of evidence values\n",
        "woe_df.plot(x='value', y='woe', kind='bar')"
      ],
      "metadata": {
        "colab": {
          "base_uri": "https://localhost:8080/",
          "height": 503
        },
        "id": "EHg0Zu3XAuWl",
        "outputId": "610feb11-8278-4455-e7cf-fe5b51b1ccf1"
      },
      "execution_count": null,
      "outputs": [
        {
          "output_type": "execute_result",
          "data": {
            "text/plain": [
              "<Axes: xlabel='value'>"
            ]
          },
          "metadata": {},
          "execution_count": 201
        },
        {
          "output_type": "display_data",
          "data": {
            "text/plain": [
              "<Figure size 640x480 with 1 Axes>"
            ],
            "image/png": "[encoded data removed]"
          },
          "metadata": {}
        }
      ]
    },
    {
      "cell_type": "code",
      "source": [
        "woe_df"
      ],
      "metadata": {
        "colab": {
          "base_uri": "https://localhost:8080/",
          "height": 112
        },
        "id": "UoNenwcFFeox",
        "outputId": "3ea7a16e-ecd4-4311-b5cb-1be6cda0f723"
      },
      "execution_count": null,
      "outputs": [
        {
          "output_type": "execute_result",
          "data": {
            "text/plain": [
              "    value       woe\n",
              "0  Female  0.630500\n",
              "1    Male  0.759982"
            ],
            "text/html": [
              "\n",
              "  <div id=\"df-d47a4f9d-689a-4214-85da-e74ac29022a7\">\n",
              "    <div class=\"colab-df-container\">\n",
              "      <div>\n",
              "<style scoped>\n",
              "    .dataframe tbody tr th:only-of-type {\n",
              "        vertical-align: middle;\n",
              "    }\n",
              "\n",
              "    .dataframe tbody tr th {\n",
              "        vertical-align: top;\n",
              "    }\n",
              "\n",
              "    .dataframe thead th {\n",
              "        text-align: right;\n",
              "    }\n",
              "</style>\n",
              "<table border=\"1\" class=\"dataframe\">\n",
              "  <thead>\n",
              "    <tr style=\"text-align: right;\">\n",
              "      <th></th>\n",
              "      <th>value</th>\n",
              "      <th>woe</th>\n",
              "    </tr>\n",
              "  </thead>\n",
              "  <tbody>\n",
              "    <tr>\n",
              "      <th>0</th>\n",
              "      <td>Female</td>\n",
              "      <td>0.630500</td>\n",
              "    </tr>\n",
              "    <tr>\n",
              "      <th>1</th>\n",
              "      <td>Male</td>\n",
              "      <td>0.759982</td>\n",
              "    </tr>\n",
              "  </tbody>\n",
              "</table>\n",
              "</div>\n",
              "      <button class=\"colab-df-convert\" onclick=\"convertToInteractive('df-d47a4f9d-689a-4214-85da-e74ac29022a7')\"\n",
              "              title=\"Convert this dataframe to an interactive table.\"\n",
              "              style=\"display:none;\">\n",
              "        \n",
              "  <svg xmlns=\"http://www.w3.org/2000/svg\" height=\"24px\"viewBox=\"0 0 24 24\"\n",
              "       width=\"24px\">\n",
              "    <path d=\"M0 0h24v24H0V0z\" fill=\"none\"/>\n",
              "    <path d=\"M18.56 5.44l.94 2.06.94-2.06 2.06-.94-2.06-.94-.94-2.06-.94 2.06-2.06.94zm-11 1L8.5 8.5l.94-2.06 2.06-.94-2.06-.94L8.5 2.5l-.94 2.06-2.06.94zm10 10l.94 2.06.94-2.06 2.06-.94-2.06-.94-.94-2.06-.94 2.06-2.06.94z\"/><path d=\"M17.41 7.96l-1.37-1.37c-.4-.4-.92-.59-1.43-.59-.52 0-1.04.2-1.43.59L10.3 9.45l-7.72 7.72c-.78.78-.78 2.05 0 2.83L4 21.41c.39.39.9.59 1.41.59.51 0 1.02-.2 1.41-.59l7.78-7.78 2.81-2.81c.8-.78.8-2.07 0-2.86zM5.41 20L4 18.59l7.72-7.72 1.47 1.35L5.41 20z\"/>\n",
              "  </svg>\n",
              "      </button>\n",
              "      \n",
              "  <style>\n",
              "    .colab-df-container {\n",
              "      display:flex;\n",
              "      flex-wrap:wrap;\n",
              "      gap: 12px;\n",
              "    }\n",
              "\n",
              "    .colab-df-convert {\n",
              "      background-color: #E8F0FE;\n",
              "      border: none;\n",
              "      border-radius: 50%;\n",
              "      cursor: pointer;\n",
              "      display: none;\n",
              "      fill: #1967D2;\n",
              "      height: 32px;\n",
              "      padding: 0 0 0 0;\n",
              "      width: 32px;\n",
              "    }\n",
              "\n",
              "    .colab-df-convert:hover {\n",
              "      background-color: #E2EBFA;\n",
              "      box-shadow: 0px 1px 2px rgba(60, 64, 67, 0.3), 0px 1px 3px 1px rgba(60, 64, 67, 0.15);\n",
              "      fill: #174EA6;\n",
              "    }\n",
              "\n",
              "    [theme=dark] .colab-df-convert {\n",
              "      background-color: #3B4455;\n",
              "      fill: #D2E3FC;\n",
              "    }\n",
              "\n",
              "    [theme=dark] .colab-df-convert:hover {\n",
              "      background-color: #434B5C;\n",
              "      box-shadow: 0px 1px 3px 1px rgba(0, 0, 0, 0.15);\n",
              "      filter: drop-shadow(0px 1px 2px rgba(0, 0, 0, 0.3));\n",
              "      fill: #FFFFFF;\n",
              "    }\n",
              "  </style>\n",
              "\n",
              "      <script>\n",
              "        const buttonEl =\n",
              "          document.querySelector('#df-d47a4f9d-689a-4214-85da-e74ac29022a7 button.colab-df-convert');\n",
              "        buttonEl.style.display =\n",
              "          google.colab.kernel.accessAllowed ? 'block' : 'none';\n",
              "\n",
              "        async function convertToInteractive(key) {\n",
              "          const element = document.querySelector('#df-d47a4f9d-689a-4214-85da-e74ac29022a7');\n",
              "          const dataTable =\n",
              "            await google.colab.kernel.invokeFunction('convertToInteractive',\n",
              "                                                     [key], {});\n",
              "          if (!dataTable) return;\n",
              "\n",
              "          const docLinkHtml = 'Like what you see? Visit the ' +\n",
              "            '<a target=\"_blank\" href=https://colab.research.google.com/notebooks/data_table.ipynb>data table notebook</a>'\n",
              "            + ' to learn more about interactive tables.';\n",
              "          element.innerHTML = '';\n",
              "          dataTable['output_type'] = 'display_data';\n",
              "          await google.colab.output.renderOutput(dataTable, element);\n",
              "          const docLink = document.createElement('div');\n",
              "          docLink.innerHTML = docLinkHtml;\n",
              "          element.appendChild(docLink);\n",
              "        }\n",
              "      </script>\n",
              "    </div>\n",
              "  </div>\n",
              "  "
            ]
          },
          "metadata": {},
          "execution_count": 202
        }
      ]
    },
    {
      "cell_type": "code",
      "source": [
        "def woe(df, Categorical_Feature, target, x):\n",
        "    d = df[df[target] == 1][Categorical_Feature].value_counts().to_dict()\n",
        "    good = df[df[target] == 1][Categorical_Feature].value_counts()[x]\n",
        "    bad = df[df[target] == 0][Categorical_Feature].value_counts()[x]\n",
        "    return np.log( (good/d['Male']) / (bad/d['Female']))\n",
        "\n",
        "woe(df, 'gender', 'churn', 'Female')"
      ],
      "metadata": {
        "colab": {
          "base_uri": "https://localhost:8080/"
        },
        "id": "ScNBgImjEK0m",
        "outputId": "6ef32144-cbc3-4289-b266-f9ce8b7de5db"
      },
      "execution_count": null,
      "outputs": [
        {
          "output_type": "execute_result",
          "data": {
            "text/plain": [
              "-1.9453733515761076"
            ]
          },
          "metadata": {},
          "execution_count": 200
        }
      ]
    },
    {
      "cell_type": "code",
      "source": [
        "\n",
        "\n",
        "\n",
        "def iv(df, Categorical_Feature, target, x):\n",
        "    good = df[df[target] == 1][Categorical_Feature].value_counts()[x]\n",
        "    bad = df[df[target] == 0][Categorical_Feature].value_counts()[x]\n",
        "    woe = np.log(good / bad)\n",
        "    return woe * (good / len(df)) * (1 - good / len(df))\n",
        "\n",
        "iv(df, 'gender', 'churn', 'Female')"
      ],
      "metadata": {
        "colab": {
          "base_uri": "https://localhost:8080/"
        },
        "id": "nALk7FLBDqnD",
        "outputId": "518f8210-e71a-414f-bc16-a0e3d0460bd5"
      },
      "execution_count": null,
      "outputs": [
        {
          "output_type": "execute_result",
          "data": {
            "text/plain": [
              "-0.1098415245797619"
            ]
          },
          "metadata": {},
          "execution_count": 204
        }
      ]
    },
    {
      "cell_type": "code",
      "source": [
        "X = df.drop('churn', axis=1)\n",
        "y = df[['churn']].values"
      ],
      "metadata": {
        "id": "PFzY9srqbutt"
      },
      "execution_count": null,
      "outputs": []
    },
    {
      "cell_type": "markdown",
      "source": [
        "https://github.com/kiraplenkin/woe_scoring"
      ],
      "metadata": {
        "id": "AvKm1wfQgXqv"
      }
    },
    {
      "cell_type": "code",
      "source": [],
      "metadata": {
        "colab": {
          "base_uri": "https://localhost:8080/"
        },
        "id": "Rxqx_ywJb-vF",
        "outputId": "ed686fab-6684-4767-a473-e6845b6d6f3a"
      },
      "execution_count": null,
      "outputs": [
        {
          "output_type": "execute_result",
          "data": {
            "text/plain": [
              "['age',\n",
              " 'no_of_days_subscribed',\n",
              " 'weekly_mins_watched',\n",
              " 'minimum_daily_mins',\n",
              " 'maximum_daily_mins',\n",
              " 'weekly_max_night_mins',\n",
              " 'videos_watched',\n",
              " 'maximum_days_inactive',\n",
              " 'customer_support_calls',\n",
              " 'gender_code',\n",
              " 'multi_screen_code',\n",
              " 'mail_subscribed_code']"
            ]
          },
          "metadata": {},
          "execution_count": 122
        }
      ]
    },
    {
      "cell_type": "code",
      "source": [],
      "metadata": {
        "id": "Qk578pfLgHGJ"
      },
      "execution_count": null,
      "outputs": []
    }
  ]
}